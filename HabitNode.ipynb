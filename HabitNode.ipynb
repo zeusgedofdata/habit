{
 "cells": [
  {
   "cell_type": "code",
   "execution_count": 16,
   "metadata": {},
   "outputs": [],
   "source": [
    "import requests"
   ]
  },
  {
   "cell_type": "code",
   "execution_count": 17,
   "metadata": {},
   "outputs": [],
   "source": [
    "url = 'http://192.168.86.25:5000/habit'"
   ]
  },
  {
   "cell_type": "code",
   "execution_count": 18,
   "metadata": {},
   "outputs": [],
   "source": [
    "habit = {'habitId': 1}"
   ]
  },
  {
   "cell_type": "code",
   "execution_count": 19,
   "metadata": {},
   "outputs": [],
   "source": [
    "\n",
    "def increment_habit(habitName, date):\n",
    "    habit = {'habitName': habitName, 'date': date}\n",
    "    response = requests.post(url, data=habit)\n",
    "    print(response)\n",
    "    print(response.text)\n",
    "    return response\n",
    "\n",
    "def decrement_habit():\n",
    "    return None\n",
    "\n",
    "def start_habit_timer():\n",
    "    return None\n",
    "\n",
    "def end_habit_timer():\n",
    "    return None\n"
   ]
  },
  {
   "cell_type": "code",
   "execution_count": 20,
   "metadata": {},
   "outputs": [
    {
     "name": "stdout",
     "output_type": "stream",
     "text": [
      "<Response [200]>\n",
      "{\"data\":{\"date\":\"2021-11-21\",\"habitName\":\"test\"},\"isError\":true,\"message\":\"Duplicate\",\"statusCode\":200}\n",
      "\n"
     ]
    }
   ],
   "source": [
    "response = increment_habit(\"test\", \"2021-11-21\")"
   ]
  },
  {
   "cell_type": "code",
   "execution_count": 10,
   "metadata": {},
   "outputs": [
    {
     "name": "stdout",
     "output_type": "stream",
     "text": [
      "<Response [200]>\n",
      "{\"data\":{\"date\":\"today\",\"habitName\":\"test\"},\"isError\":true,\"message\":\"Duplicate\",\"statusCode\":200}\n",
      "\n"
     ]
    }
   ],
   "source": [
    "increment_habit(\"test\", \"today\")"
   ]
  },
  {
   "cell_type": "code",
   "execution_count": 31,
   "metadata": {},
   "outputs": [
    {
     "data": {
      "text/plain": [
       "True"
      ]
     },
     "execution_count": 31,
     "metadata": {},
     "output_type": "execute_result"
    }
   ],
   "source": [
    "response.json()[\"isError\"]"
   ]
  },
  {
   "cell_type": "code",
   "execution_count": null,
   "metadata": {},
   "outputs": [],
   "source": []
  }
 ],
 "metadata": {
  "kernelspec": {
   "display_name": "Python 3",
   "language": "python",
   "name": "python3"
  },
  "language_info": {
   "codemirror_mode": {
    "name": "ipython",
    "version": 3
   },
   "file_extension": ".py",
   "mimetype": "text/x-python",
   "name": "python",
   "nbconvert_exporter": "python",
   "pygments_lexer": "ipython3",
   "version": "3.8.4"
  }
 },
 "nbformat": 4,
 "nbformat_minor": 4
}
