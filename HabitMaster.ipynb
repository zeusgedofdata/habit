{
 "cells": [
  {
   "cell_type": "code",
   "execution_count": 1,
   "metadata": {},
   "outputs": [],
   "source": [
    "from flask import Flask\n",
    "from flask import request, jsonify\n",
    "from flask_restful import Resource, Api, reqparse\n",
    "from flask_navigation import Navigation\n",
    "import blinker\n",
    "import pandas as pd\n",
    "import ast\n",
    "import psycopg2\n",
    "import pandas.io.sql as sqlio\n",
    "import requests\n",
    "import sqlalchemy\n",
    "from sqlalchemy import create_engine\n",
    "from pathlib import Path\n",
    "import json\n",
    "from multipledispatch import dispatch\n",
    "from flask import request, render_template\n",
    "from datetime import date, timedelta\n",
    "import os\n",
    "import plotly.graph_objects as go\n",
    "import plotly.express as px\n",
    "import kaleido\n",
    "import numpy as np"
   ]
  },
  {
   "cell_type": "code",
   "execution_count": 2,
   "metadata": {},
   "outputs": [],
   "source": [
    "#cal_df = df_current.copy()\n",
    "#cal_df[\"date\"] = pd.to_datetime(cal_df[\"date\"])\n",
    "#cal_df = cal_df.set_index(\"date\")\n",
    "#cal_df[\"Education\"] = cal_df[\"Class\"]+cal_df[\"Notes\"] + cal_df[\"Group Study\"] + cal_df[\"Read\"]\n",
    "#cal_df[\"Education\"] = cal_df[\"Education\"].clip(upper=1)"
   ]
  },
  {
   "cell_type": "markdown",
   "metadata": {},
   "source": [
    "# Helper Functions"
   ]
  },
  {
   "cell_type": "code",
   "execution_count": 3,
   "metadata": {},
   "outputs": [],
   "source": [
    "def get_properties():\n",
    "    props = {}\n",
    "    separator = \"=\"\n",
    "            \n",
    "    with open('./database.properties') as file:\n",
    "        for line in file: \n",
    "            if separator in line:\n",
    "                name, value = line.split(separator, 1)\n",
    "                props[name.strip()] = value.strip()\n",
    "    return props"
   ]
  },
  {
   "cell_type": "markdown",
   "metadata": {},
   "source": [
    "# Databaseclass Database:"
   ]
  },
  {
   "cell_type": "code",
   "execution_count": 4,
   "metadata": {},
   "outputs": [],
   "source": [
    "class Database:\n",
    "    def __init__(self):\n",
    "        db_prop = get_properties()\n",
    "        self.username = db_prop.get('username')\n",
    "        self.password = db_prop.get('password')\n",
    "        self.host = db_prop.get('host')\n",
    "        self.port = db_prop.get('port')\n",
    "        self.database = db_prop.get('database')\n",
    "        #For SQLAlchemy\n",
    "       \n",
    "    \n",
    "    def connect(self):\n",
    "        connection = psycopg2.connect(user=self.username,\n",
    "                                      password=self.password,\n",
    "                                      host=self.host,\n",
    "                                      port=self.port,\n",
    "                                      database=self.database)\n",
    "        return connection, connection.cursor()\n",
    "    \n",
    "    def connect_alchemy(self):\n",
    "        '''Alt library to connect used for importing dataframes'''\n",
    "        engine = create_engine('postgresql://'+self.username+':'+self.password+'@'+self.host+':'+self.port+'/'+self.database)\n",
    "        return engine\n",
    "    \n",
    "    def execute_query(self, query, values):\n",
    "        conn, cursor = None, None\n",
    "        response = \"\"\n",
    "        try:\n",
    "            conn, cursor = self.connect()\n",
    "            cursor.execute(query, values)\n",
    "            conn.commit()\n",
    "            query = \"select * from public.task WHERE name = %s and date =%s\"\n",
    "            cursor.execute(query, values)\n",
    "            conn.commit()\n",
    "            response = cursor.fetchone()[0]\n",
    "        except (Exception, psycopg2.Error) as error:\n",
    "            print(\"Error while connecting to PostgreSQL\", error)\n",
    "            response = \"duplicate\"\n",
    "        finally:\n",
    "            # closing database connection.\n",
    "            if conn:\n",
    "                cursor.close()\n",
    "                conn.close()\n",
    "            return response\n",
    "        \n",
    "    def execute_select(self, query, values):\n",
    "        conn, cursor = None, None\n",
    "        response = \"\"\n",
    "        \n",
    "        try:\n",
    "            conn, cursor = self.connect()\n",
    "            cursor.execute(query, values)\n",
    "            conn.commit()\n",
    "            response = cursor.fetchone()[0]\n",
    "        except (Exception, psycopg2.Error) as error:\n",
    "            #Does not exist\n",
    "            insert_query = 'INSERT INTO public.task (\"name\", \"date\", \"time\") VALUES (%s, %s, %s);'\n",
    "            response =  self.execute_query(insert_query, values)\n",
    "            cursor.execute(query, values)\n",
    "            conn.commit()\n",
    "            response = cursor.fetchone()[0]\n",
    "        finally:\n",
    "            # closing database connection.\n",
    "            if conn:\n",
    "                cursor.close()\n",
    "                conn.close()\n",
    "            return response\n",
    "        \n",
    "        \n",
    "        \n",
    "    @dispatch(str, str, str, str, str, bool)\n",
    "    def insert_food(self, name, date, hour, food_name, size, home_cooked):\n",
    "        '''\n",
    "        Check if habit exits\n",
    "            Insert if it doens't\n",
    "        Get id of habit\n",
    "        Insert into food\n",
    "        '''\n",
    "        query = \"select * from public.task WHERE name = %s and date =%s and time =%s\"\n",
    "        values = (name, date, hour, )\n",
    "        response = self.execute_select(query, values)#Inserts new value if blank\n",
    "        \n",
    "        query = 'INSERT INTO public.food (\"name\", task_fk, \"size\", homecooked) VALUES(%s, %s, %s, %s);'\n",
    "        values = (food_name, int(response), size, home_cooked)\n",
    "        conn, cursor = None, None\n",
    "        response = \"\"\n",
    "        try:\n",
    "            conn, cursor = self.connect()\n",
    "            cursor.execute(query, values)\n",
    "            conn.commit()\n",
    "        except (Exception, psycopg2.Error) as error:\n",
    "            print(\"Error while connecting to PostgreSQL\", error)\n",
    "            response = \"duplicate\"\n",
    "        finally:\n",
    "            # closing database connection.\n",
    "            if conn:\n",
    "                cursor.close()\n",
    "                conn.close()\n",
    "            return response\n",
    "    \n",
    "    @dispatch(str)\n",
    "    def insert_habit(self, name):\n",
    "        query = 'INSERT INTO public.task (\"name\") VALUES (%s);'\n",
    "        values = tuple(name)\n",
    "        return self.execute_query(query, values)\n",
    "    @dispatch(str, str)            \n",
    "    def insert_habit(self, name, date):\n",
    "        query = 'INSERT INTO public.task (\"name\", \"date\") VALUES (%s, %s);'\n",
    "        values = (name, date,)\n",
    "        return self.execute_query(query, values)\n",
    "    @dispatch(str, str, str)            \n",
    "    def insert_habit(self, name, date, time):\n",
    "        query = 'INSERT INTO public.task (\"name\", \"date\", \"time\") VALUES (%s, %s, %s);'\n",
    "        values = (name, date, time)\n",
    "        return self.execute_query(query, values)\n",
    "    \n",
    "    @dispatch(str)            \n",
    "    def delete_habit(self, id):\n",
    "        query = f'DELETE FROM public.task WHERE id = {id};'\n",
    "        values = (id)\n",
    "        conn, cursor = None, None\n",
    "        try:\n",
    "            conn, cursor = self.connect()\n",
    "            cursor.execute(query)\n",
    "            conn.commit()\n",
    "        except (Exception, psycopg2.Error) as error:\n",
    "            print(\"Error while connecting to PostgreSQL\", error)\n",
    "        finally:\n",
    "            # closing database connection.\n",
    "            if conn:\n",
    "                cursor.close()\n",
    "                conn.close()\n",
    "        \n",
    "    def read_habits(self):\n",
    "        query = f\"select * from task where date = '{date.today()}'\"\n",
    "        result = None\n",
    "        conn, cursor = None, None\n",
    "        try:\n",
    "            conn, cursor = self.connect()\n",
    "            result = sqlio.read_sql_query(query, conn)\n",
    "        except(Exception, psycopg2.Error) as error:\n",
    "            print(\"Error while connecting to PostgreSQL\", error)\n",
    "        finally:\n",
    "            if conn:\n",
    "                cursor.close()\n",
    "                conn.close()\n",
    "            return result\n",
    "        \n",
    "        \n",
    "    def read_food_week(self):\n",
    "        query = f\"SELECT  f.name, f.homecooked, t.date, t.time FROM public.food as f INNER JOIN task as t on f.task_fk = t.id where date > '{date.today() - timedelta(days=7)}'\"\n",
    "        result = None\n",
    "        conn, cursor = None, None\n",
    "        try:\n",
    "            conn, cursor = self.connect()\n",
    "            result = sqlio.read_sql_query(query, conn)\n",
    "        except(Exception, psycopg2.Error) as error:\n",
    "            print(\"Error while connecting to PostgreSQL\", error)\n",
    "        finally:\n",
    "            if conn:\n",
    "                cursor.close()\n",
    "                conn.close()\n",
    "            return result     \n",
    "        \n",
    "    def read_habits_week(self):\n",
    "        query = f\"select * from task where date > '{date.today() - timedelta(days=7)}'\"\n",
    "        result = None\n",
    "        conn, cursor = None, None\n",
    "        try:\n",
    "            conn, cursor = self.connect()\n",
    "            result = sqlio.read_sql_query(query, conn)\n",
    "        except(Exception, psycopg2.Error) as error:\n",
    "            print(\"Error while connecting to PostgreSQL\", error)\n",
    "        finally:\n",
    "            if conn:\n",
    "                cursor.close()\n",
    "                conn.close()\n",
    "            return result      "
   ]
  },
  {
   "cell_type": "code",
   "execution_count": null,
   "metadata": {},
   "outputs": [],
   "source": []
  },
  {
   "cell_type": "code",
   "execution_count": null,
   "metadata": {},
   "outputs": [],
   "source": [
    "\n"
   ]
  },
  {
   "attachments": {},
   "cell_type": "markdown",
   "metadata": {},
   "source": [
    "## Make Graphs"
   ]
  },
  {
   "cell_type": "code",
   "execution_count": 5,
   "metadata": {},
   "outputs": [],
   "source": [
    "def week_histogram():\n",
    "    db = Database()\n",
    "    df = db.read_habits_week()\n",
    "    df[\"date\"] = pd.to_datetime(df[\"date\"])\n",
    "    df = df.sort_values(by=[\"date\"])\n",
    "    df[\"day\"] = df[\"date\"].dt.day_name()\n",
    "    df = df.groupby(by=[\"date\", \"day\",\"name\"]).count().reset_index().sort_values(by=[\"date\"])\n",
    "\n",
    "    fig = go.Figure()\n",
    "    fig.add_trace(go.Histogram2d(\n",
    "        x = df.day,\n",
    "        y = df.name,\n",
    "        texttemplate= \"%{z}\",\n",
    "        colorscale='Tempo',\n",
    "    ))\n",
    "    fig.write_html(\"./templates/weekly/histogram.html\")\n"
   ]
  },
  {
   "cell_type": "code",
   "execution_count": 6,
   "metadata": {},
   "outputs": [],
   "source": [
    "def week_sunburst():\n",
    "    db = Database()\n",
    "    df = db.read_habits_week()\n",
    "    df[\"date\"] = pd.to_datetime(df[\"date\"])\n",
    "    df = df.sort_values(by=[\"date\"])\n",
    "    df[\"day\"] = df[\"date\"].dt.day_name()\n",
    "    df = df.groupby(by=[\"name\"]).count().reset_index()\n",
    "    df = df[[\"name\",\"id\"]]\n",
    "    minds = [\"Class\", \"Programming\", \"Group Work\", \"Paper\", \"Atlantic\", \"WSJ\", \"Economist\",\"Reading\"]\n",
    "    bodies = [\"Yoga\",\"Weight\",\"Run\",\"Walk\", \"Personal Train\"]\n",
    "    souls = [\"Timer\", \"Guided\", \"Dharma Talk\", \"Group\"]\n",
    "    mind_count = {\"name\":\"Mind\", \"id\":0}\n",
    "    body_count = {\"name\":\"Body\", \"id\":0}\n",
    "    soul_count = {\"name\":\"Soul\", \"id\":0}\n",
    "    for mind in minds:\n",
    "        try:\n",
    "            mind_count[\"id\"]+= df[df.name==mind][\"id\"].values[0]\n",
    "        except:\n",
    "            df = df.append({\"name\":mind,\"id\":0}, ignore_index=True)\n",
    "    for body in bodies:\n",
    "        try:\n",
    "            body_count[\"id\"]+= df[df.name==body][\"id\"].values[0]\n",
    "        except:\n",
    "            df = df.append({\"name\":body,\"id\":0}, ignore_index=True)\n",
    "\n",
    "    for soul in souls:\n",
    "        try:\n",
    "            soul_count[\"id\"]+= df[df.name==soul][\"id\"].values[0]\n",
    "        except:\n",
    "            df = df.append({\"name\":soul,\"id\":0}, ignore_index=True)\n",
    "    df = df.append(mind_count, ignore_index=True)\n",
    "    df = df.append(body_count, ignore_index=True)\n",
    "    df = df.append(soul_count, ignore_index=True)\n",
    "    df = df.T\n",
    "    df.columns = df.iloc[0]\n",
    "    df = df.drop(df.index[0])\n",
    "\n",
    "    fig = go.Figure()\n",
    "    fig.add_trace(go.Sunburst(\n",
    "        labels=[\"All\", \"Mind\", \"Body\", \"Soul\", \"Class\", \"Programming\", \"Group Work\", \"Paper\", \"Atlantic\", \\\n",
    "                \"WSJ\", \"Economist\",\"Reading\", \"Yoga\",\"Weight\",\"Run\",\"Walk\", \"Personal Train\", \"Timer\", \"Guided\", \"Dharma Talk\", \"Group\"],\n",
    "        parents=[\"\", \"All\", \"All\", \"All\", \"Mind\", \"Mind\", \"Mind\", \"Mind\", \"Mind\", \"Mind\", \"Mind\", \"Mind\",\\\n",
    "                 \"Body\",\"Body\",\"Body\",\"Body\",\"Body\",\"Soul\",\"Soul\",\"Soul\",\"Soul\"],\n",
    "        values=[df[\"Mind\"][\"id\"] + df[\"Body\"][\"id\"] + df[\"Soul\"][\"id\"],df[\"Mind\"][\"id\"] ,df[\"Body\"][\"id\"] ,df[\"Soul\"][\"id\"] ,df[\"Class\"][\"id\"] ,df[\"Programming\"][\"id\"] ,df[\"Group Work\"][\"id\"] ,df[\"Paper\"][\"id\"] ,df[\"Atlantic\"][\"id\"] , \n",
    "            df[\"WSJ\"][\"id\"] ,df[\"Economist\"][\"id\"] ,df[\"Reading\"][\"id\"] ,df[\"Yoga\"][\"id\"] ,df[\"Weight\"][\"id\"] ,df[\"Run\"][\"id\"],df[\"Personal Train\"][\"id\"] ,df[\"Walk\"][\"id\"] ,df[\"Timer\"][\"id\"] ,df[\"Guided\"][\"id\"] ,df[\"Dharma Talk\"][\"id\"] ,df[\"Group\"][\"id\"]],\n",
    "        branchvalues=\"total\",\n",
    "    ))\n",
    "    fig.write_html(\"./templates/weekly/sunburst.html\")\n",
    "\n",
    "\n"
   ]
  },
  {
   "cell_type": "code",
   "execution_count": 7,
   "metadata": {},
   "outputs": [],
   "source": [
    "def week_food():\n",
    "    db = Database()\n",
    "    df = db.read_food_week()\n",
    "    df['start'] = pd.to_datetime(df['date'].astype(str) + ' ' + df['time'].astype(str) + ':00:00', format='%Y-%m-%d')\n",
    "    df[\"start\"] = df[\"start\"].dt.date\n",
    "    df['end'] = df['start'] + pd.Timedelta(days=1)\n",
    "    \n",
    "    \n",
    "    df = df.sort_values(by=[\"date\"])\n",
    "    df = df.groupby(by=[\"start\",\"end\", \"time\"]).agg({'name': lambda x: \"<br>\".join(x.tolist()), \"homecooked\":\"sum\"}).reset_index()\n",
    "    df['homecooked'] = df['homecooked'].astype(bool).apply(lambda x: False if x == 0 else True)\n",
    "    df.time = df.time.astype(int)\n",
    "    df = df.sort_values(by=[\"time\"])\n",
    "    \n",
    "    df[\"name\"] = \"<b>\" + df[\"name\"]\n",
    "    df[\"when\"] = np.where(df[\"time\"]<12,\"morning\",np.where(df[\"time\"]<17, \"afternoon\", \"evening\"))\n",
    "    fig = px.timeline(df, x_start=\"start\", x_end=\"end\", y=\"when\", color=\"homecooked\", text=\"name\")\n",
    "    fig.update_yaxes(autorange=\"reversed\")\n",
    "\n",
    "    fig.update_layout(\n",
    "        autosize=False,\n",
    "        width=1600,\n",
    "        height=600,\n",
    "    )\n",
    "\n",
    "    fig.write_image(\"./templates/weekly/weekly_food.png\")\n",
    "    fig.write_html(\"./templates/weekly/weekly_food.html\")\n",
    "    fig.show()\n"
   ]
  },
  {
   "cell_type": "code",
   "execution_count": 8,
   "metadata": {},
   "outputs": [
    {
     "data": {
      "application/vnd.plotly.v1+json": {
       "config": {
        "plotlyServerURL": "https://plot.ly"
       },
       "data": [
        {
         "alignmentgroup": "True",
         "base": [
          "2023-02-21",
          "2023-02-23",
          "2023-02-20",
          "2023-02-18",
          "2023-02-19",
          "2023-02-22",
          "2023-02-20",
          "2023-02-21",
          "2023-02-20",
          "2023-02-23"
         ],
         "hovertemplate": "homecooked=True<br>start=%{base}<br>end=%{x}<br>when=%{y}<br>name=%{text}<extra></extra>",
         "legendgroup": "True",
         "marker": {
          "color": "#636efa"
         },
         "name": "True",
         "offsetgroup": "True",
         "orientation": "h",
         "showlegend": true,
         "text": [
          "<b>Oatmeal",
          "<b>Oatmeal",
          "<b>oatmeal",
          "<b>Salmon<br>Rice",
          "<b>eggs<br>Rice",
          "<b>Rice<br>Salmon",
          "<b>Rice<br>Egg",
          "<b>Rice<br>Egg",
          "<b>HF: Carrots<br>HF: Chicken Parmesan<br>HF: Couscous",
          "<b>Veggie Quesadilla"
         ],
         "textposition": "auto",
         "type": "bar",
         "x": [
          86400000,
          86400000,
          86400000,
          86400000,
          86400000,
          86400000,
          86400000,
          86400000,
          86400000,
          86400000
         ],
         "xaxis": "x",
         "y": [
          "morning",
          "morning",
          "morning",
          "afternoon",
          "afternoon",
          "afternoon",
          "afternoon",
          "afternoon",
          "evening",
          "evening"
         ],
         "yaxis": "y"
        },
        {
         "alignmentgroup": "True",
         "base": [
          "2023-02-23",
          "2023-02-18",
          "2023-02-19",
          "2023-02-21",
          "2023-02-22"
         ],
         "hovertemplate": "homecooked=False<br>start=%{base}<br>end=%{x}<br>when=%{y}<br>name=%{text}<extra></extra>",
         "legendgroup": "False",
         "marker": {
          "color": "#EF553B"
         },
         "name": "False",
         "offsetgroup": "False",
         "orientation": "h",
         "showlegend": true,
         "text": [
          "<b>Potbelly Chicken Salad",
          "<b>Pita Inn: Lamb Kabob Sandwich<br>Pita Inn: Rice",
          "<b>Jimmy Johns: Italian Sub",
          "<b>Bibimbap",
          "<b>Chicken Curry"
         ],
         "textposition": "auto",
         "type": "bar",
         "x": [
          86400000,
          86400000,
          86400000,
          86400000,
          86400000
         ],
         "xaxis": "x",
         "y": [
          "afternoon",
          "evening",
          "evening",
          "evening",
          "evening"
         ],
         "yaxis": "y"
        }
       ],
       "layout": {
        "autosize": false,
        "barmode": "overlay",
        "height": 600,
        "legend": {
         "title": {
          "text": "homecooked"
         },
         "tracegroupgap": 0
        },
        "margin": {
         "t": 60
        },
        "template": {
         "data": {
          "bar": [
           {
            "error_x": {
             "color": "#2a3f5f"
            },
            "error_y": {
             "color": "#2a3f5f"
            },
            "marker": {
             "line": {
              "color": "#E5ECF6",
              "width": 0.5
             },
             "pattern": {
              "fillmode": "overlay",
              "size": 10,
              "solidity": 0.2
             }
            },
            "type": "bar"
           }
          ],
          "barpolar": [
           {
            "marker": {
             "line": {
              "color": "#E5ECF6",
              "width": 0.5
             },
             "pattern": {
              "fillmode": "overlay",
              "size": 10,
              "solidity": 0.2
             }
            },
            "type": "barpolar"
           }
          ],
          "carpet": [
           {
            "aaxis": {
             "endlinecolor": "#2a3f5f",
             "gridcolor": "white",
             "linecolor": "white",
             "minorgridcolor": "white",
             "startlinecolor": "#2a3f5f"
            },
            "baxis": {
             "endlinecolor": "#2a3f5f",
             "gridcolor": "white",
             "linecolor": "white",
             "minorgridcolor": "white",
             "startlinecolor": "#2a3f5f"
            },
            "type": "carpet"
           }
          ],
          "choropleth": [
           {
            "colorbar": {
             "outlinewidth": 0,
             "ticks": ""
            },
            "type": "choropleth"
           }
          ],
          "contour": [
           {
            "colorbar": {
             "outlinewidth": 0,
             "ticks": ""
            },
            "colorscale": [
             [
              0,
              "#0d0887"
             ],
             [
              0.1111111111111111,
              "#46039f"
             ],
             [
              0.2222222222222222,
              "#7201a8"
             ],
             [
              0.3333333333333333,
              "#9c179e"
             ],
             [
              0.4444444444444444,
              "#bd3786"
             ],
             [
              0.5555555555555556,
              "#d8576b"
             ],
             [
              0.6666666666666666,
              "#ed7953"
             ],
             [
              0.7777777777777778,
              "#fb9f3a"
             ],
             [
              0.8888888888888888,
              "#fdca26"
             ],
             [
              1,
              "#f0f921"
             ]
            ],
            "type": "contour"
           }
          ],
          "contourcarpet": [
           {
            "colorbar": {
             "outlinewidth": 0,
             "ticks": ""
            },
            "type": "contourcarpet"
           }
          ],
          "heatmap": [
           {
            "colorbar": {
             "outlinewidth": 0,
             "ticks": ""
            },
            "colorscale": [
             [
              0,
              "#0d0887"
             ],
             [
              0.1111111111111111,
              "#46039f"
             ],
             [
              0.2222222222222222,
              "#7201a8"
             ],
             [
              0.3333333333333333,
              "#9c179e"
             ],
             [
              0.4444444444444444,
              "#bd3786"
             ],
             [
              0.5555555555555556,
              "#d8576b"
             ],
             [
              0.6666666666666666,
              "#ed7953"
             ],
             [
              0.7777777777777778,
              "#fb9f3a"
             ],
             [
              0.8888888888888888,
              "#fdca26"
             ],
             [
              1,
              "#f0f921"
             ]
            ],
            "type": "heatmap"
           }
          ],
          "heatmapgl": [
           {
            "colorbar": {
             "outlinewidth": 0,
             "ticks": ""
            },
            "colorscale": [
             [
              0,
              "#0d0887"
             ],
             [
              0.1111111111111111,
              "#46039f"
             ],
             [
              0.2222222222222222,
              "#7201a8"
             ],
             [
              0.3333333333333333,
              "#9c179e"
             ],
             [
              0.4444444444444444,
              "#bd3786"
             ],
             [
              0.5555555555555556,
              "#d8576b"
             ],
             [
              0.6666666666666666,
              "#ed7953"
             ],
             [
              0.7777777777777778,
              "#fb9f3a"
             ],
             [
              0.8888888888888888,
              "#fdca26"
             ],
             [
              1,
              "#f0f921"
             ]
            ],
            "type": "heatmapgl"
           }
          ],
          "histogram": [
           {
            "marker": {
             "pattern": {
              "fillmode": "overlay",
              "size": 10,
              "solidity": 0.2
             }
            },
            "type": "histogram"
           }
          ],
          "histogram2d": [
           {
            "colorbar": {
             "outlinewidth": 0,
             "ticks": ""
            },
            "colorscale": [
             [
              0,
              "#0d0887"
             ],
             [
              0.1111111111111111,
              "#46039f"
             ],
             [
              0.2222222222222222,
              "#7201a8"
             ],
             [
              0.3333333333333333,
              "#9c179e"
             ],
             [
              0.4444444444444444,
              "#bd3786"
             ],
             [
              0.5555555555555556,
              "#d8576b"
             ],
             [
              0.6666666666666666,
              "#ed7953"
             ],
             [
              0.7777777777777778,
              "#fb9f3a"
             ],
             [
              0.8888888888888888,
              "#fdca26"
             ],
             [
              1,
              "#f0f921"
             ]
            ],
            "type": "histogram2d"
           }
          ],
          "histogram2dcontour": [
           {
            "colorbar": {
             "outlinewidth": 0,
             "ticks": ""
            },
            "colorscale": [
             [
              0,
              "#0d0887"
             ],
             [
              0.1111111111111111,
              "#46039f"
             ],
             [
              0.2222222222222222,
              "#7201a8"
             ],
             [
              0.3333333333333333,
              "#9c179e"
             ],
             [
              0.4444444444444444,
              "#bd3786"
             ],
             [
              0.5555555555555556,
              "#d8576b"
             ],
             [
              0.6666666666666666,
              "#ed7953"
             ],
             [
              0.7777777777777778,
              "#fb9f3a"
             ],
             [
              0.8888888888888888,
              "#fdca26"
             ],
             [
              1,
              "#f0f921"
             ]
            ],
            "type": "histogram2dcontour"
           }
          ],
          "mesh3d": [
           {
            "colorbar": {
             "outlinewidth": 0,
             "ticks": ""
            },
            "type": "mesh3d"
           }
          ],
          "parcoords": [
           {
            "line": {
             "colorbar": {
              "outlinewidth": 0,
              "ticks": ""
             }
            },
            "type": "parcoords"
           }
          ],
          "pie": [
           {
            "automargin": true,
            "type": "pie"
           }
          ],
          "scatter": [
           {
            "fillpattern": {
             "fillmode": "overlay",
             "size": 10,
             "solidity": 0.2
            },
            "type": "scatter"
           }
          ],
          "scatter3d": [
           {
            "line": {
             "colorbar": {
              "outlinewidth": 0,
              "ticks": ""
             }
            },
            "marker": {
             "colorbar": {
              "outlinewidth": 0,
              "ticks": ""
             }
            },
            "type": "scatter3d"
           }
          ],
          "scattercarpet": [
           {
            "marker": {
             "colorbar": {
              "outlinewidth": 0,
              "ticks": ""
             }
            },
            "type": "scattercarpet"
           }
          ],
          "scattergeo": [
           {
            "marker": {
             "colorbar": {
              "outlinewidth": 0,
              "ticks": ""
             }
            },
            "type": "scattergeo"
           }
          ],
          "scattergl": [
           {
            "marker": {
             "colorbar": {
              "outlinewidth": 0,
              "ticks": ""
             }
            },
            "type": "scattergl"
           }
          ],
          "scattermapbox": [
           {
            "marker": {
             "colorbar": {
              "outlinewidth": 0,
              "ticks": ""
             }
            },
            "type": "scattermapbox"
           }
          ],
          "scatterpolar": [
           {
            "marker": {
             "colorbar": {
              "outlinewidth": 0,
              "ticks": ""
             }
            },
            "type": "scatterpolar"
           }
          ],
          "scatterpolargl": [
           {
            "marker": {
             "colorbar": {
              "outlinewidth": 0,
              "ticks": ""
             }
            },
            "type": "scatterpolargl"
           }
          ],
          "scatterternary": [
           {
            "marker": {
             "colorbar": {
              "outlinewidth": 0,
              "ticks": ""
             }
            },
            "type": "scatterternary"
           }
          ],
          "surface": [
           {
            "colorbar": {
             "outlinewidth": 0,
             "ticks": ""
            },
            "colorscale": [
             [
              0,
              "#0d0887"
             ],
             [
              0.1111111111111111,
              "#46039f"
             ],
             [
              0.2222222222222222,
              "#7201a8"
             ],
             [
              0.3333333333333333,
              "#9c179e"
             ],
             [
              0.4444444444444444,
              "#bd3786"
             ],
             [
              0.5555555555555556,
              "#d8576b"
             ],
             [
              0.6666666666666666,
              "#ed7953"
             ],
             [
              0.7777777777777778,
              "#fb9f3a"
             ],
             [
              0.8888888888888888,
              "#fdca26"
             ],
             [
              1,
              "#f0f921"
             ]
            ],
            "type": "surface"
           }
          ],
          "table": [
           {
            "cells": {
             "fill": {
              "color": "#EBF0F8"
             },
             "line": {
              "color": "white"
             }
            },
            "header": {
             "fill": {
              "color": "#C8D4E3"
             },
             "line": {
              "color": "white"
             }
            },
            "type": "table"
           }
          ]
         },
         "layout": {
          "annotationdefaults": {
           "arrowcolor": "#2a3f5f",
           "arrowhead": 0,
           "arrowwidth": 1
          },
          "autotypenumbers": "strict",
          "coloraxis": {
           "colorbar": {
            "outlinewidth": 0,
            "ticks": ""
           }
          },
          "colorscale": {
           "diverging": [
            [
             0,
             "#8e0152"
            ],
            [
             0.1,
             "#c51b7d"
            ],
            [
             0.2,
             "#de77ae"
            ],
            [
             0.3,
             "#f1b6da"
            ],
            [
             0.4,
             "#fde0ef"
            ],
            [
             0.5,
             "#f7f7f7"
            ],
            [
             0.6,
             "#e6f5d0"
            ],
            [
             0.7,
             "#b8e186"
            ],
            [
             0.8,
             "#7fbc41"
            ],
            [
             0.9,
             "#4d9221"
            ],
            [
             1,
             "#276419"
            ]
           ],
           "sequential": [
            [
             0,
             "#0d0887"
            ],
            [
             0.1111111111111111,
             "#46039f"
            ],
            [
             0.2222222222222222,
             "#7201a8"
            ],
            [
             0.3333333333333333,
             "#9c179e"
            ],
            [
             0.4444444444444444,
             "#bd3786"
            ],
            [
             0.5555555555555556,
             "#d8576b"
            ],
            [
             0.6666666666666666,
             "#ed7953"
            ],
            [
             0.7777777777777778,
             "#fb9f3a"
            ],
            [
             0.8888888888888888,
             "#fdca26"
            ],
            [
             1,
             "#f0f921"
            ]
           ],
           "sequentialminus": [
            [
             0,
             "#0d0887"
            ],
            [
             0.1111111111111111,
             "#46039f"
            ],
            [
             0.2222222222222222,
             "#7201a8"
            ],
            [
             0.3333333333333333,
             "#9c179e"
            ],
            [
             0.4444444444444444,
             "#bd3786"
            ],
            [
             0.5555555555555556,
             "#d8576b"
            ],
            [
             0.6666666666666666,
             "#ed7953"
            ],
            [
             0.7777777777777778,
             "#fb9f3a"
            ],
            [
             0.8888888888888888,
             "#fdca26"
            ],
            [
             1,
             "#f0f921"
            ]
           ]
          },
          "colorway": [
           "#636efa",
           "#EF553B",
           "#00cc96",
           "#ab63fa",
           "#FFA15A",
           "#19d3f3",
           "#FF6692",
           "#B6E880",
           "#FF97FF",
           "#FECB52"
          ],
          "font": {
           "color": "#2a3f5f"
          },
          "geo": {
           "bgcolor": "white",
           "lakecolor": "white",
           "landcolor": "#E5ECF6",
           "showlakes": true,
           "showland": true,
           "subunitcolor": "white"
          },
          "hoverlabel": {
           "align": "left"
          },
          "hovermode": "closest",
          "mapbox": {
           "style": "light"
          },
          "paper_bgcolor": "white",
          "plot_bgcolor": "#E5ECF6",
          "polar": {
           "angularaxis": {
            "gridcolor": "white",
            "linecolor": "white",
            "ticks": ""
           },
           "bgcolor": "#E5ECF6",
           "radialaxis": {
            "gridcolor": "white",
            "linecolor": "white",
            "ticks": ""
           }
          },
          "scene": {
           "xaxis": {
            "backgroundcolor": "#E5ECF6",
            "gridcolor": "white",
            "gridwidth": 2,
            "linecolor": "white",
            "showbackground": true,
            "ticks": "",
            "zerolinecolor": "white"
           },
           "yaxis": {
            "backgroundcolor": "#E5ECF6",
            "gridcolor": "white",
            "gridwidth": 2,
            "linecolor": "white",
            "showbackground": true,
            "ticks": "",
            "zerolinecolor": "white"
           },
           "zaxis": {
            "backgroundcolor": "#E5ECF6",
            "gridcolor": "white",
            "gridwidth": 2,
            "linecolor": "white",
            "showbackground": true,
            "ticks": "",
            "zerolinecolor": "white"
           }
          },
          "shapedefaults": {
           "line": {
            "color": "#2a3f5f"
           }
          },
          "ternary": {
           "aaxis": {
            "gridcolor": "white",
            "linecolor": "white",
            "ticks": ""
           },
           "baxis": {
            "gridcolor": "white",
            "linecolor": "white",
            "ticks": ""
           },
           "bgcolor": "#E5ECF6",
           "caxis": {
            "gridcolor": "white",
            "linecolor": "white",
            "ticks": ""
           }
          },
          "title": {
           "x": 0.05
          },
          "xaxis": {
           "automargin": true,
           "gridcolor": "white",
           "linecolor": "white",
           "ticks": "",
           "title": {
            "standoff": 15
           },
           "zerolinecolor": "white",
           "zerolinewidth": 2
          },
          "yaxis": {
           "automargin": true,
           "gridcolor": "white",
           "linecolor": "white",
           "ticks": "",
           "title": {
            "standoff": 15
           },
           "zerolinecolor": "white",
           "zerolinewidth": 2
          }
         }
        },
        "width": 1600,
        "xaxis": {
         "anchor": "y",
         "domain": [
          0,
          1
         ],
         "type": "date"
        },
        "yaxis": {
         "anchor": "x",
         "autorange": "reversed",
         "domain": [
          0,
          1
         ],
         "title": {
          "text": "when"
         }
        }
       }
      }
     },
     "metadata": {},
     "output_type": "display_data"
    }
   ],
   "source": [
    "def make_all():\n",
    "    week_histogram()\n",
    "    week_sunburst()\n",
    "    week_food()\n",
    "make_all()"
   ]
  },
  {
   "cell_type": "code",
   "execution_count": null,
   "metadata": {},
   "outputs": [],
   "source": []
  },
  {
   "cell_type": "code",
   "execution_count": null,
   "metadata": {},
   "outputs": [],
   "source": []
  },
  {
   "cell_type": "code",
   "execution_count": null,
   "metadata": {},
   "outputs": [],
   "source": []
  },
  {
   "cell_type": "code",
   "execution_count": null,
   "metadata": {},
   "outputs": [],
   "source": []
  },
  {
   "cell_type": "markdown",
   "metadata": {},
   "source": [
    "# Make API"
   ]
  },
  {
   "cell_type": "code",
   "execution_count": 9,
   "metadata": {},
   "outputs": [],
   "source": [
    "app = Flask(__name__)\n",
    "api = Api(app)\n",
    "#nav = Navigation(app)"
   ]
  },
  {
   "cell_type": "code",
   "execution_count": 10,
   "metadata": {},
   "outputs": [],
   "source": [
    "@app.route('/')\n",
    "def my_form():\n",
    "    db = Database()\n",
    "    df = db.read_habits().sort_values(by=[\"name\"])\n",
    "    return render_template('my-form.html', column_names = df.columns.values, row_data=list(df.values.tolist()), link_column =\"id\", zip=zip)\n",
    "\n",
    "@app.route('/', methods=['POST'])\n",
    "def my_form_post():\n",
    "    db = Database()\n",
    "    form = request.form\n",
    "    if form[\"habit\"] ==\"Eat\":\n",
    "        try:\n",
    "            home_cooked = True if form[\"hcooked\"] == \"on\" else False\n",
    "        except:\n",
    "            home_cooked = False\n",
    "        db.insert_food(form[\"habit\"], str(date.today()), str(form[\"hour\"]), str(form[\"fname\"]), str(form[\"size\"]), home_cooked)\n",
    "        \n",
    "    \n",
    "    else:\n",
    "        try:\n",
    "            if form[\"hour\"] == \"none\":\n",
    "                db.insert_habit(form[\"habit\"], str(date.today()))\n",
    "            else:\n",
    "                db.insert_habit(form[\"habit\"], str(date.today()), form[\"hour\"])\n",
    "        except:\n",
    "            db.delete_habit(form[\"id\"])\n",
    "    #print(request.form)\n",
    "    #text = request.form['text']\n",
    "    #processed_text = text.upper()\n",
    "    df = db.read_habits().sort_values(by=[\"name\"])\n",
    "    return render_template('my-form.html', column_names = df.columns.values, row_data=list(df.values.tolist()), link_column =\"id\", zip=zip)\n",
    "\n",
    "@app.route('/display')\n",
    "def histogram():\n",
    "    make_all()\n",
    "    return render_template(\"display.html\")\n",
    "    #return render_template(\"/weekly/histogram.html\")\n",
    "\n"
   ]
  },
  {
   "cell_type": "code",
   "execution_count": 11,
   "metadata": {},
   "outputs": [
    {
     "name": "stderr",
     "output_type": "stream",
     "text": [
      "<>:21: SyntaxWarning:\n",
      "\n",
      "\"is\" with a literal. Did you mean \"==\"?\n",
      "\n",
      "<>:21: SyntaxWarning:\n",
      "\n",
      "\"is\" with a literal. Did you mean \"==\"?\n",
      "\n",
      "C:\\Users\\zeusg\\AppData\\Local\\Temp/ipykernel_28412/1779009016.py:21: SyntaxWarning:\n",
      "\n",
      "\"is\" with a literal. Did you mean \"==\"?\n",
      "\n"
     ]
    }
   ],
   "source": [
    "class Habit(Resource):\n",
    "    def __init__(self):\n",
    "        self.db = Database()\n",
    "    \n",
    "    def get(self):\n",
    "        return {\"test\":\"Woo\"}\n",
    "    def post(self):\n",
    "        parser = reqparse.RequestParser()\n",
    "        parser.add_argument('habitName', required = True)\n",
    "        parser.add_argument('date', required = True)\n",
    "        args = parser.parse_args()\n",
    "        if \"today\" in args[\"date\"]:\n",
    "            #result = self.db.insert_habit(args[\"habitName\"])\n",
    "            None\n",
    "        else: \n",
    "            #result = self.db.insert_habit(args[\"habitName\"], args[\"date\"])\n",
    "            None\n",
    "        result = \"works\"\n",
    "        print(\"Inserting \" + args[\"habitName\"] + \"  \" +args[\"date\"])\n",
    "        print(result)\n",
    "        if result is \"duplicate\":\n",
    "            return jsonify(isError= True,\n",
    "                    message= \"Duplicate\",\n",
    "                    statusCode= 200,\n",
    "                    data= args)\n",
    "        return jsonify(isError= False,\n",
    "                    message= \"Success\",\n",
    "                    statusCode= 200,\n",
    "                    data= args)\n",
    "    \n",
    "api.add_resource(Habit, '/habit')"
   ]
  },
  {
   "cell_type": "code",
   "execution_count": 12,
   "metadata": {},
   "outputs": [
    {
     "name": "stdout",
     "output_type": "stream",
     "text": [
      " * Serving Flask app \"__main__\" (lazy loading)\n",
      " * Environment: production\n",
      "\u001b[31m   WARNING: This is a development server. Do not use it in a production deployment.\u001b[0m\n",
      "\u001b[2m   Use a production WSGI server instead.\u001b[0m\n",
      " * Debug mode: off\n"
     ]
    },
    {
     "name": "stderr",
     "output_type": "stream",
     "text": [
      " * Running on all addresses.\n",
      "   WARNING: This is a development server. Do not use it in a production deployment.\n",
      " * Running on http://192.168.86.25:5000/ (Press CTRL+C to quit)\n"
     ]
    }
   ],
   "source": [
    "if __name__ == '__main__':\n",
    "    app.run(host=\"0.0.0.0\")"
   ]
  },
  {
   "cell_type": "code",
   "execution_count": null,
   "metadata": {},
   "outputs": [],
   "source": []
  }
 ],
 "metadata": {
  "kernelspec": {
   "display_name": "base",
   "language": "python",
   "name": "python3"
  },
  "language_info": {
   "codemirror_mode": {
    "name": "ipython",
    "version": 3
   },
   "file_extension": ".py",
   "mimetype": "text/x-python",
   "name": "python",
   "nbconvert_exporter": "python",
   "pygments_lexer": "ipython3",
   "version": "3.9.7"
  },
  "vscode": {
   "interpreter": {
    "hash": "7e991bf97fc345923b24c44eb1af9d52fdb63f1c974eaad59437b51eb81b6b74"
   }
  }
 },
 "nbformat": 4,
 "nbformat_minor": 4
}
