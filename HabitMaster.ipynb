{
 "cells": [
  {
   "cell_type": "code",
   "execution_count": 19,
   "metadata": {},
   "outputs": [],
   "source": [
    "from flask import Flask\n",
    "from flask import request, jsonify\n",
    "from flask_restful import Resource, Api, reqparse\n",
    "import pandas as pd\n",
    "import ast\n",
    "import psycopg2\n",
    "import pandas.io.sql as sqlio\n",
    "import requests\n",
    "import sqlalchemy\n",
    "from sqlalchemy import create_engine\n",
    "from pathlib import Path\n",
    "import json\n",
    "from multipledispatch import dispatch\n",
    "import os"
   ]
  },
  {
   "cell_type": "markdown",
   "metadata": {},
   "source": [
    "# Helper Functions"
   ]
  },
  {
   "cell_type": "code",
   "execution_count": 20,
   "metadata": {},
   "outputs": [],
   "source": [
    "def get_properties():\n",
    "    props = {}\n",
    "    separator = \"=\"\n",
    "            \n",
    "    with open('./database.properties') as file:\n",
    "        for line in file: \n",
    "            if separator in line:\n",
    "                name, value = line.split(separator, 1)\n",
    "                props[name.strip()] = value.strip()\n",
    "    return props"
   ]
  },
  {
   "cell_type": "markdown",
   "metadata": {},
   "source": [
    "# Databaseclass Database:"
   ]
  },
  {
   "cell_type": "code",
   "execution_count": 21,
   "metadata": {},
   "outputs": [],
   "source": [
    "class Database:\n",
    "    def __init__(self):\n",
    "        db_prop = get_properties()\n",
    "        self.username = db_prop.get('username')\n",
    "        self.password = db_prop.get('password')\n",
    "        self.host = db_prop.get('host')\n",
    "        self.port = db_prop.get('port')\n",
    "        self.database = db_prop.get('database')\n",
    "        #For SQLAlchemy\n",
    "       \n",
    "    \n",
    "    def connect(self):\n",
    "        connection = psycopg2.connect(user=self.username,\n",
    "                                      password=self.password,\n",
    "                                      host=self.host,\n",
    "                                      port=self.port,\n",
    "                                      database=self.database)\n",
    "        return connection, connection.cursor()\n",
    "    \n",
    "    def connect_alchemy(self):\n",
    "        '''Alt library to connect used for importing dataframes'''\n",
    "        engine = create_engine('postgresql://'+self.username+':'+self.password+'@'+self.host+':'+self.port+'/'+self.database)\n",
    "        return engine\n",
    "    \n",
    "    @dispatch(str)\n",
    "    def insert_habit(self, name):\n",
    "        query = 'INSERT INTO public.task (\"name\") VALUES (%s);'\n",
    "        values = tuple(name)\n",
    "        conn, cursor = None, None\n",
    "        response = \"\"\n",
    "        try:\n",
    "            conn, cursor = self.connect()\n",
    "            cursor.execute(query, (name,))\n",
    "            conn.commit()\n",
    "            query = \"select * from public.task WHERE name = %s and date =%s\"\n",
    "            cursor.execute(query, values)\n",
    "            conn.commit()\n",
    "            response = cursor.fetchone()[0]\n",
    "        except (Exception, psycopg2.Error) as error:\n",
    "            print(\"Error while connecting to PostgreSQL\", error)\n",
    "            response = \"duplicate\"\n",
    "        finally:\n",
    "            # closing database connection.\n",
    "            if conn:\n",
    "                cursor.close()\n",
    "                conn.close()\n",
    "            return response\n",
    "    @dispatch(str, str)            \n",
    "    def insert_habit(self, name, date):\n",
    "        query = 'INSERT INTO public.task (\"name\", \"date\") VALUES (%s, %s);'\n",
    "        values = (name, date,)\n",
    "        conn, cursor, task_id = None, None, None\n",
    "        response = \"\"\n",
    "        try:\n",
    "            conn, cursor = self.connect()\n",
    "            cursor.execute(query, values)\n",
    "            conn.commit()\n",
    "            query = \"select * from public.task WHERE name = %s and date =%s\"\n",
    "            cursor.execute(query, values)\n",
    "            conn.commit()\n",
    "            response = cursor.fetchone()[0]\n",
    "        except (Exception, psycopg2.Error) as error:\n",
    "            print(\"Error while connecting to PostgreSQL\", error)\n",
    "            response = \"duplicate\"\n",
    "        finally:\n",
    "            # closing database connection.\n",
    "            if conn:\n",
    "                cursor.close()\n",
    "                conn.close()\n",
    "            return response\n",
    "        \n",
    "    def read_habits(self):\n",
    "        query = \"select * from task\"\n",
    "        result = None\n",
    "        conn, cursor = None, None\n",
    "        try:\n",
    "            conn, cursor = self.connect()\n",
    "            result = sqlio.read_sql_query(query, conn)\n",
    "        except(Exception, psycopg2.Error) as error:\n",
    "            print(\"Error while connecting to PostgreSQL\", error)\n",
    "        finally:\n",
    "            if conn:\n",
    "                cursor.close()\n",
    "                conn.close()\n",
    "            return result     "
   ]
  },
  {
   "cell_type": "markdown",
   "metadata": {},
   "source": [
    "# Make API"
   ]
  },
  {
   "cell_type": "code",
   "execution_count": 22,
   "metadata": {},
   "outputs": [],
   "source": [
    "app = Flask(__name__)\n",
    "api = Api(app)"
   ]
  },
  {
   "cell_type": "code",
   "execution_count": 23,
   "metadata": {},
   "outputs": [],
   "source": [
    "class Habit(Resource):\n",
    "    def __init__(self):\n",
    "        self.db = Database()\n",
    "    \n",
    "    def get(self):\n",
    "        return {\"test\":\"Woo\"}\n",
    "    def post(self):\n",
    "        parser = reqparse.RequestParser()\n",
    "        parser.add_argument('habitName', required = True)\n",
    "        parser.add_argument('date', required = True)\n",
    "        args = parser.parse_args()\n",
    "        if \"today\" in args[\"date\"]:\n",
    "            result = self.db.insert_habit(args[\"habitName\"])\n",
    "        else: \n",
    "            result = self.db.insert_habit(args[\"habitName\"], args[\"date\"])\n",
    "        print(\"Inserting \" + args[\"habitName\"] + \"  \" +args[\"date\"])\n",
    "        print(result)\n",
    "        if result is \"duplicate\":\n",
    "            return jsonify(isError= True,\n",
    "                    message= \"Duplicate\",\n",
    "                    statusCode= 200,\n",
    "                    data= args)\n",
    "        return jsonify(isError= False,\n",
    "                    message= \"Success\",\n",
    "                    statusCode= 200,\n",
    "                    data= args)\n",
    "    \n",
    "api.add_resource(Habit, '/habit')"
   ]
  },
  {
   "cell_type": "code",
   "execution_count": 26,
   "metadata": {},
   "outputs": [
    {
     "name": "stdout",
     "output_type": "stream",
     "text": [
      " * Serving Flask app '__main__' (lazy loading)\n",
      " * Environment: production\n",
      "\u001b[31m   WARNING: This is a development server. Do not use it in a production deployment.\u001b[0m\n",
      "\u001b[2m   Use a production WSGI server instead.\u001b[0m\n",
      " * Debug mode: off\n"
     ]
    },
    {
     "name": "stderr",
     "output_type": "stream",
     "text": [
      " * Running on all addresses.\n",
      "   WARNING: This is a development server. Do not use it in a production deployment.\n",
      " * Running on http://192.168.86.25:5000/ (Press CTRL+C to quit)\n",
      "192.168.86.25 - - [14/Dec/2021 11:52:15] \"POST //habit HTTP/1.1\" 200 -\n"
     ]
    },
    {
     "name": "stdout",
     "output_type": "stream",
     "text": [
      "Inserting test  2021-10-01\n",
      "1760\n"
     ]
    },
    {
     "name": "stderr",
     "output_type": "stream",
     "text": [
      "192.168.86.50 - - [14/Dec/2021 11:53:28] \"POST //habit HTTP/1.1\" 200 -\n"
     ]
    },
    {
     "name": "stdout",
     "output_type": "stream",
     "text": [
      "Error while connecting to PostgreSQL duplicate key value violates unique constraint \"task_un\"\n",
      "DETAIL:  Key (name, date)=(test, 2021-10-01) already exists.\n",
      "\n",
      "Inserting test  2021-10-01\n",
      "duplicate\n"
     ]
    },
    {
     "name": "stderr",
     "output_type": "stream",
     "text": [
      "192.168.86.50 - - [14/Dec/2021 11:55:41] \"POST //habit HTTP/1.1\" 200 -\n",
      "192.168.86.50 - - [14/Dec/2021 11:55:41] \"POST //habit HTTP/1.1\" 200 -\n",
      "192.168.86.50 - - [14/Dec/2021 11:55:41] \"POST //habit HTTP/1.1\" 200 -\n"
     ]
    },
    {
     "name": "stdout",
     "output_type": "stream",
     "text": [
      "Error while connecting to PostgreSQL duplicate key value violates unique constraint \"task_un\"\n",
      "DETAIL:  Key (name, date)=(test, 2021-10-01) already exists.\n",
      "\n",
      "Inserting test  2021-10-01\n",
      "duplicate\n",
      "Error while connecting to PostgreSQL duplicate key value violates unique constraint \"task_un\"\n",
      "DETAIL:  Key (name, date)=(test, 2021-10-01) already exists.\n",
      "\n",
      "Inserting test  2021-10-01\n",
      "duplicate\n",
      "Error while connecting to PostgreSQL duplicate key value violates unique constraint \"task_un\"\n",
      "DETAIL:  Key (name, date)=(test, 2021-10-01) already exists.\n",
      "\n",
      "Inserting test  2021-10-01\n",
      "duplicate\n"
     ]
    },
    {
     "name": "stderr",
     "output_type": "stream",
     "text": [
      "192.168.86.50 - - [14/Dec/2021 11:55:48] \"POST //habit HTTP/1.1\" 200 -\n",
      "192.168.86.50 - - [14/Dec/2021 11:55:48] \"POST //habit HTTP/1.1\" 200 -\n"
     ]
    },
    {
     "name": "stdout",
     "output_type": "stream",
     "text": [
      "Error while connecting to PostgreSQL duplicate key value violates unique constraint \"task_un\"\n",
      "DETAIL:  Key (name, date)=(test, 2021-10-01) already exists.\n",
      "\n",
      "Inserting test  2021-10-01\n",
      "duplicate\n",
      "Error while connecting to PostgreSQL duplicate key value violates unique constraint \"task_un\"\n",
      "DETAIL:  Key (name, date)=(test, 2021-10-01) already exists.\n",
      "\n",
      "Inserting test  2021-10-01\n",
      "duplicate\n"
     ]
    },
    {
     "name": "stderr",
     "output_type": "stream",
     "text": [
      "192.168.86.50 - - [14/Dec/2021 11:55:52] \"POST //habit HTTP/1.1\" 200 -\n"
     ]
    },
    {
     "name": "stdout",
     "output_type": "stream",
     "text": [
      "Error while connecting to PostgreSQL duplicate key value violates unique constraint \"task_un\"\n",
      "DETAIL:  Key (name, date)=(test, 2021-10-01) already exists.\n",
      "\n",
      "Inserting test  2021-10-01\n",
      "duplicate\n"
     ]
    },
    {
     "name": "stderr",
     "output_type": "stream",
     "text": [
      "192.168.86.50 - - [14/Dec/2021 11:55:53] \"POST //habit HTTP/1.1\" 200 -\n",
      "192.168.86.50 - - [14/Dec/2021 11:55:53] \"POST //habit HTTP/1.1\" 200 -\n"
     ]
    },
    {
     "name": "stdout",
     "output_type": "stream",
     "text": [
      "Error while connecting to PostgreSQL duplicate key value violates unique constraint \"task_un\"\n",
      "DETAIL:  Key (name, date)=(test, 2021-10-01) already exists.\n",
      "\n",
      "Inserting test  2021-10-01\n",
      "duplicate\n",
      "Error while connecting to PostgreSQL duplicate key value violates unique constraint \"task_un\"\n",
      "DETAIL:  Key (name, date)=(test, 2021-10-01) already exists.\n",
      "\n",
      "Inserting test  2021-10-01\n",
      "duplicate\n"
     ]
    },
    {
     "name": "stderr",
     "output_type": "stream",
     "text": [
      "192.168.86.50 - - [14/Dec/2021 11:55:55] \"POST //habit HTTP/1.1\" 200 -\n",
      "192.168.86.50 - - [14/Dec/2021 11:55:55] \"POST //habit HTTP/1.1\" 200 -\n",
      "192.168.86.50 - - [14/Dec/2021 11:55:55] \"POST //habit HTTP/1.1\" 200 -\n"
     ]
    },
    {
     "name": "stdout",
     "output_type": "stream",
     "text": [
      "Error while connecting to PostgreSQL duplicate key value violates unique constraint \"task_un\"\n",
      "DETAIL:  Key (name, date)=(test, 2021-10-01) already exists.\n",
      "\n",
      "Inserting test  2021-10-01\n",
      "duplicate\n",
      "Error while connecting to PostgreSQL duplicate key value violates unique constraint \"task_un\"\n",
      "DETAIL:  Key (name, date)=(test, 2021-10-01) already exists.\n",
      "\n",
      "Inserting test  2021-10-01\n",
      "duplicate\n",
      "Error while connecting to PostgreSQL duplicate key value violates unique constraint \"task_un\"\n",
      "DETAIL:  Key (name, date)=(test, 2021-10-01) already exists.\n",
      "\n",
      "Inserting test  2021-10-01\n",
      "duplicate\n"
     ]
    },
    {
     "name": "stderr",
     "output_type": "stream",
     "text": [
      "192.168.86.50 - - [14/Dec/2021 11:55:55] \"POST //habit HTTP/1.1\" 200 -\n"
     ]
    },
    {
     "name": "stdout",
     "output_type": "stream",
     "text": [
      "Error while connecting to PostgreSQL duplicate key value violates unique constraint \"task_un\"\n",
      "DETAIL:  Key (name, date)=(test, 2021-10-01) already exists.\n",
      "\n",
      "Inserting test  2021-10-01\n",
      "duplicate\n"
     ]
    },
    {
     "name": "stderr",
     "output_type": "stream",
     "text": [
      "192.168.86.50 - - [14/Dec/2021 11:55:57] \"POST //habit HTTP/1.1\" 200 -\n",
      "192.168.86.50 - - [14/Dec/2021 11:55:57] \"POST //habit HTTP/1.1\" 200 -\n",
      "192.168.86.50 - - [14/Dec/2021 11:55:57] \"POST //habit HTTP/1.1\" 200 -\n"
     ]
    },
    {
     "name": "stdout",
     "output_type": "stream",
     "text": [
      "Error while connecting to PostgreSQL duplicate key value violates unique constraint \"task_un\"\n",
      "DETAIL:  Key (name, date)=(test, 2021-10-01) already exists.\n",
      "\n",
      "Inserting test  2021-10-01\n",
      "duplicate\n",
      "Error while connecting to PostgreSQL duplicate key value violates unique constraint \"task_un\"\n",
      "DETAIL:  Key (name, date)=(test, 2021-10-01) already exists.\n",
      "\n",
      "Inserting test  2021-10-01\n",
      "duplicate\n",
      "Error while connecting to PostgreSQL duplicate key value violates unique constraint \"task_un\"\n",
      "DETAIL:  Key (name, date)=(test, 2021-10-01) already exists.\n",
      "\n",
      "Inserting test  2021-10-01\n",
      "duplicate\n"
     ]
    },
    {
     "name": "stderr",
     "output_type": "stream",
     "text": [
      "192.168.86.50 - - [14/Dec/2021 11:55:57] \"POST //habit HTTP/1.1\" 200 -\n",
      "192.168.86.50 - - [14/Dec/2021 11:55:57] \"POST //habit HTTP/1.1\" 200 -\n",
      "192.168.86.50 - - [14/Dec/2021 11:55:57] \"POST //habit HTTP/1.1\" 200 -\n"
     ]
    },
    {
     "name": "stdout",
     "output_type": "stream",
     "text": [
      "Error while connecting to PostgreSQL duplicate key value violates unique constraint \"task_un\"\n",
      "DETAIL:  Key (name, date)=(test, 2021-10-01) already exists.\n",
      "\n",
      "Inserting test  2021-10-01\n",
      "duplicate\n",
      "Error while connecting to PostgreSQL duplicate key value violates unique constraint \"task_un\"\n",
      "DETAIL:  Key (name, date)=(test, 2021-10-01) already exists.\n",
      "\n",
      "Inserting test  2021-10-01\n",
      "duplicate\n",
      "Error while connecting to PostgreSQL duplicate key value violates unique constraint \"task_un\"\n",
      "DETAIL:  Key (name, date)=(test, 2021-10-01) already exists.\n",
      "\n",
      "Inserting test  2021-10-01\n",
      "duplicate\n"
     ]
    },
    {
     "name": "stderr",
     "output_type": "stream",
     "text": [
      "192.168.86.50 - - [14/Dec/2021 11:55:57] \"POST //habit HTTP/1.1\" 200 -\n",
      "192.168.86.50 - - [14/Dec/2021 11:55:57] \"POST //habit HTTP/1.1\" 200 -\n",
      "192.168.86.50 - - [14/Dec/2021 11:55:57] \"POST //habit HTTP/1.1\" 200 -\n"
     ]
    },
    {
     "name": "stdout",
     "output_type": "stream",
     "text": [
      "Error while connecting to PostgreSQL duplicate key value violates unique constraint \"task_un\"\n",
      "DETAIL:  Key (name, date)=(test, 2021-10-01) already exists.\n",
      "\n",
      "Inserting test  2021-10-01\n",
      "duplicate\n",
      "Error while connecting to PostgreSQL duplicate key value violates unique constraint \"task_un\"\n",
      "DETAIL:  Key (name, date)=(test, 2021-10-01) already exists.\n",
      "\n",
      "Inserting test  2021-10-01\n",
      "duplicate\n",
      "Error while connecting to PostgreSQL duplicate key value violates unique constraint \"task_un\"\n",
      "DETAIL:  Key (name, date)=(test, 2021-10-01) already exists.\n",
      "\n",
      "Inserting test  2021-10-01\n",
      "duplicate\n",
      "Error while connecting to PostgreSQL duplicate key value violates unique constraint \"task_un\"\n",
      "DETAIL:  Key (name, date)=(test, 2021-10-01) already exists.\n",
      "\n"
     ]
    },
    {
     "name": "stderr",
     "output_type": "stream",
     "text": [
      "192.168.86.50 - - [14/Dec/2021 11:55:57] \"POST //habit HTTP/1.1\" 200 -\n",
      "192.168.86.50 - - [14/Dec/2021 11:55:57] \"POST //habit HTTP/1.1\" 200 -\n",
      "192.168.86.50 - - [14/Dec/2021 11:55:57] \"POST //habit HTTP/1.1\" 200 -\n"
     ]
    },
    {
     "name": "stdout",
     "output_type": "stream",
     "text": [
      "Inserting test  2021-10-01\n",
      "duplicate\n",
      "Error while connecting to PostgreSQL duplicate key value violates unique constraint \"task_un\"\n",
      "DETAIL:  Key (name, date)=(test, 2021-10-01) already exists.\n",
      "\n",
      "Inserting test  2021-10-01\n",
      "duplicate\n",
      "Error while connecting to PostgreSQL duplicate key value violates unique constraint \"task_un\"\n",
      "DETAIL:  Key (name, date)=(test, 2021-10-01) already exists.\n",
      "\n",
      "Inserting test  2021-10-01\n",
      "duplicate\n"
     ]
    },
    {
     "name": "stderr",
     "output_type": "stream",
     "text": [
      "192.168.86.50 - - [14/Dec/2021 11:55:57] \"POST //habit HTTP/1.1\" 200 -\n",
      "192.168.86.50 - - [14/Dec/2021 11:55:58] \"POST //habit HTTP/1.1\" 200 -\n",
      "192.168.86.50 - - [14/Dec/2021 11:55:58] \"POST //habit HTTP/1.1\" 200 -\n"
     ]
    },
    {
     "name": "stdout",
     "output_type": "stream",
     "text": [
      "Error while connecting to PostgreSQL duplicate key value violates unique constraint \"task_un\"\n",
      "DETAIL:  Key (name, date)=(test, 2021-10-01) already exists.\n",
      "\n",
      "Inserting test  2021-10-01\n",
      "duplicate\n",
      "Error while connecting to PostgreSQL duplicate key value violates unique constraint \"task_un\"\n",
      "DETAIL:  Key (name, date)=(test, 2021-10-01) already exists.\n",
      "\n",
      "Inserting test  2021-10-01\n",
      "duplicate\n",
      "Error while connecting to PostgreSQL duplicate key value violates unique constraint \"task_un\"\n",
      "DETAIL:  Key (name, date)=(test, 2021-10-01) already exists.\n",
      "\n",
      "Inserting test  2021-10-01\n",
      "duplicate\n"
     ]
    },
    {
     "name": "stderr",
     "output_type": "stream",
     "text": [
      "192.168.86.50 - - [14/Dec/2021 11:55:58] \"POST //habit HTTP/1.1\" 200 -\n",
      "192.168.86.50 - - [14/Dec/2021 11:55:58] \"POST //habit HTTP/1.1\" 200 -\n",
      "192.168.86.50 - - [14/Dec/2021 11:55:58] \"POST //habit HTTP/1.1\" 200 -\n"
     ]
    },
    {
     "name": "stdout",
     "output_type": "stream",
     "text": [
      "Error while connecting to PostgreSQL duplicate key value violates unique constraint \"task_un\"\n",
      "DETAIL:  Key (name, date)=(test, 2021-10-01) already exists.\n",
      "\n",
      "Inserting test  2021-10-01\n",
      "duplicate\n",
      "Error while connecting to PostgreSQL duplicate key value violates unique constraint \"task_un\"\n",
      "DETAIL:  Key (name, date)=(test, 2021-10-01) already exists.\n",
      "\n",
      "Inserting test  2021-10-01\n",
      "duplicate\n",
      "Error while connecting to PostgreSQL duplicate key value violates unique constraint \"task_un\"\n",
      "DETAIL:  Key (name, date)=(test, 2021-10-01) already exists.\n",
      "\n",
      "Inserting test  2021-10-01\n",
      "duplicate\n"
     ]
    },
    {
     "name": "stderr",
     "output_type": "stream",
     "text": [
      "192.168.86.50 - - [14/Dec/2021 11:55:58] \"POST //habit HTTP/1.1\" 200 -\n",
      "192.168.86.50 - - [14/Dec/2021 11:55:58] \"POST //habit HTTP/1.1\" 200 -\n",
      "192.168.86.50 - - [14/Dec/2021 11:55:58] \"POST //habit HTTP/1.1\" 200 -\n"
     ]
    },
    {
     "name": "stdout",
     "output_type": "stream",
     "text": [
      "Error while connecting to PostgreSQL duplicate key value violates unique constraint \"task_un\"\n",
      "DETAIL:  Key (name, date)=(test, 2021-10-01) already exists.\n",
      "\n",
      "Inserting test  2021-10-01\n",
      "duplicate\n",
      "Error while connecting to PostgreSQL duplicate key value violates unique constraint \"task_un\"\n",
      "DETAIL:  Key (name, date)=(test, 2021-10-01) already exists.\n",
      "\n",
      "Inserting test  2021-10-01\n",
      "duplicate\n",
      "Error while connecting to PostgreSQL duplicate key value violates unique constraint \"task_un\"\n",
      "DETAIL:  Key (name, date)=(test, 2021-10-01) already exists.\n",
      "\n",
      "Inserting test  2021-10-01\n",
      "duplicate\n",
      "Error while connecting to PostgreSQL"
     ]
    },
    {
     "name": "stderr",
     "output_type": "stream",
     "text": [
      "192.168.86.50 - - [14/Dec/2021 11:55:58] \"POST //habit HTTP/1.1\" 200 -\n",
      "192.168.86.50 - - [14/Dec/2021 11:55:58] \"POST //habit HTTP/1.1\" 200 -\n",
      "192.168.86.50 - - [14/Dec/2021 11:55:58] \"POST //habit HTTP/1.1\" 200 -\n"
     ]
    },
    {
     "name": "stdout",
     "output_type": "stream",
     "text": [
      " duplicate key value violates unique constraint \"task_un\"\n",
      "DETAIL:  Key (name, date)=(test, 2021-10-01) already exists.\n",
      "\n",
      "Inserting test  2021-10-01\n",
      "duplicate\n",
      "Error while connecting to PostgreSQL duplicate key value violates unique constraint \"task_un\"\n",
      "DETAIL:  Key (name, date)=(test, 2021-10-01) already exists.\n",
      "\n",
      "Inserting test  2021-10-01\n",
      "duplicate\n",
      "Error while connecting to PostgreSQL duplicate key value violates unique constraint \"task_un\"\n",
      "DETAIL:  Key (name, date)=(test, 2021-10-01) already exists.\n",
      "\n",
      "Inserting test  2021-10-01\n",
      "duplicate\n",
      "Error while connecting to PostgreSQL"
     ]
    },
    {
     "name": "stderr",
     "output_type": "stream",
     "text": [
      "192.168.86.50 - - [14/Dec/2021 11:55:58] \"POST //habit HTTP/1.1\" 200 -\n",
      "192.168.86.50 - - [14/Dec/2021 11:55:58] \"POST //habit HTTP/1.1\" 200 -\n",
      "192.168.86.50 - - [14/Dec/2021 11:55:58] \"POST //habit HTTP/1.1\" 200 -\n"
     ]
    },
    {
     "name": "stdout",
     "output_type": "stream",
     "text": [
      " duplicate key value violates unique constraint \"task_un\"\n",
      "DETAIL:  Key (name, date)=(test, 2021-10-01) already exists.\n",
      "\n",
      "Inserting test  2021-10-01\n",
      "duplicate\n",
      "Error while connecting to PostgreSQL duplicate key value violates unique constraint \"task_un\"\n",
      "DETAIL:  Key (name, date)=(test, 2021-10-01) already exists.\n",
      "\n",
      "Inserting test  2021-10-01\n",
      "duplicate\n",
      "Error while connecting to PostgreSQL duplicate key value violates unique constraint \"task_un\"\n",
      "DETAIL:  Key (name, date)=(test, 2021-10-01) already exists.\n",
      "\n",
      "Inserting test  2021-10-01\n",
      "duplicate\n"
     ]
    },
    {
     "name": "stderr",
     "output_type": "stream",
     "text": [
      "192.168.86.50 - - [14/Dec/2021 11:56:49] \"POST //habit HTTP/1.1\" 200 -\n"
     ]
    },
    {
     "name": "stdout",
     "output_type": "stream",
     "text": [
      "Error while connecting to PostgreSQL duplicate key value violates unique constraint \"task_un\"\n",
      "DETAIL:  Key (name, date)=(test, 2021-10-01) already exists.\n",
      "\n",
      "Inserting test  2021-10-01\n",
      "duplicate\n"
     ]
    },
    {
     "name": "stderr",
     "output_type": "stream",
     "text": [
      "192.168.86.50 - - [14/Dec/2021 11:56:50] \"POST //habit HTTP/1.1\" 200 -\n"
     ]
    },
    {
     "name": "stdout",
     "output_type": "stream",
     "text": [
      "Error while connecting to PostgreSQL duplicate key value violates unique constraint \"task_un\"\n",
      "DETAIL:  Key (name, date)=(test, 2021-10-01) already exists.\n",
      "\n",
      "Inserting test  2021-10-01\n",
      "duplicate\n"
     ]
    },
    {
     "name": "stderr",
     "output_type": "stream",
     "text": [
      "192.168.86.50 - - [14/Dec/2021 11:56:51] \"POST //habit HTTP/1.1\" 200 -\n"
     ]
    },
    {
     "name": "stdout",
     "output_type": "stream",
     "text": [
      "Error while connecting to PostgreSQL duplicate key value violates unique constraint \"task_un\"\n",
      "DETAIL:  Key (name, date)=(test, 2021-10-01) already exists.\n",
      "\n",
      "Inserting test  2021-10-01\n",
      "duplicate\n"
     ]
    },
    {
     "name": "stderr",
     "output_type": "stream",
     "text": [
      "192.168.86.50 - - [14/Dec/2021 11:56:54] \"POST //habit HTTP/1.1\" 200 -\n"
     ]
    },
    {
     "name": "stdout",
     "output_type": "stream",
     "text": [
      "Error while connecting to PostgreSQL duplicate key value violates unique constraint \"task_un\"\n",
      "DETAIL:  Key (name, date)=(test, 2021-10-01) already exists.\n",
      "\n",
      "Inserting test  2021-10-01\n",
      "duplicate\n"
     ]
    },
    {
     "name": "stderr",
     "output_type": "stream",
     "text": [
      "192.168.86.50 - - [14/Dec/2021 11:56:55] \"POST //habit HTTP/1.1\" 200 -\n"
     ]
    },
    {
     "name": "stdout",
     "output_type": "stream",
     "text": [
      "Error while connecting to PostgreSQL duplicate key value violates unique constraint \"task_un\"\n",
      "DETAIL:  Key (name, date)=(test, 2021-10-01) already exists.\n",
      "\n",
      "Inserting test  2021-10-01\n",
      "duplicate\n"
     ]
    },
    {
     "name": "stderr",
     "output_type": "stream",
     "text": [
      "192.168.86.50 - - [14/Dec/2021 12:26:59] \"POST //habit HTTP/1.1\" 200 -\n"
     ]
    },
    {
     "name": "stdout",
     "output_type": "stream",
     "text": [
      "Error while connecting to PostgreSQL duplicate key value violates unique constraint \"task_un\"\n",
      "DETAIL:  Key (name, date)=(test, 2021-10-01) already exists.\n",
      "\n",
      "Inserting test  2021-10-01\n",
      "duplicate\n"
     ]
    },
    {
     "name": "stderr",
     "output_type": "stream",
     "text": [
      "192.168.86.50 - - [14/Dec/2021 12:27:12] \"POST //habit HTTP/1.1\" 200 -\n"
     ]
    },
    {
     "name": "stdout",
     "output_type": "stream",
     "text": [
      "Error while connecting to PostgreSQL duplicate key value violates unique constraint \"task_un\"\n",
      "DETAIL:  Key (name, date)=(test, 2021-10-01) already exists.\n",
      "\n",
      "Inserting test  2021-10-01\n",
      "duplicate\n"
     ]
    },
    {
     "name": "stderr",
     "output_type": "stream",
     "text": [
      "192.168.86.50 - - [14/Dec/2021 12:28:12] \"POST //habit HTTP/1.1\" 200 -\n"
     ]
    },
    {
     "name": "stdout",
     "output_type": "stream",
     "text": [
      "Error while connecting to PostgreSQL duplicate key value violates unique constraint \"task_un\"\n",
      "DETAIL:  Key (name, date)=(test, 2021-10-01) already exists.\n",
      "\n",
      "Inserting test  2021-10-01\n",
      "duplicate\n"
     ]
    },
    {
     "name": "stderr",
     "output_type": "stream",
     "text": [
      "192.168.86.50 - - [14/Dec/2021 12:30:01] \"POST //habit HTTP/1.1\" 200 -\n"
     ]
    },
    {
     "name": "stdout",
     "output_type": "stream",
     "text": [
      "Error while connecting to PostgreSQL duplicate key value violates unique constraint \"task_un\"\n",
      "DETAIL:  Key (name, date)=(test, 2021-10-01) already exists.\n",
      "\n",
      "Inserting test  2021-10-01\n",
      "duplicate\n"
     ]
    },
    {
     "name": "stderr",
     "output_type": "stream",
     "text": [
      "192.168.86.50 - - [14/Dec/2021 12:31:11] \"POST //habit HTTP/1.1\" 200 -\n"
     ]
    },
    {
     "name": "stdout",
     "output_type": "stream",
     "text": [
      "Error while connecting to PostgreSQL duplicate key value violates unique constraint \"task_un\"\n",
      "DETAIL:  Key (name, date)=(test, 2021-10-01) already exists.\n",
      "\n",
      "Inserting test  2021-10-01\n",
      "duplicate\n"
     ]
    },
    {
     "name": "stderr",
     "output_type": "stream",
     "text": [
      "192.168.86.50 - - [14/Dec/2021 12:31:20] \"POST //habit HTTP/1.1\" 200 -\n"
     ]
    },
    {
     "name": "stdout",
     "output_type": "stream",
     "text": [
      "Error while connecting to PostgreSQL duplicate key value violates unique constraint \"task_un\"\n",
      "DETAIL:  Key (name, date)=(test, 2021-10-01) already exists.\n",
      "\n",
      "Inserting test  2021-10-01\n",
      "duplicate\n"
     ]
    },
    {
     "name": "stderr",
     "output_type": "stream",
     "text": [
      "192.168.86.50 - - [14/Dec/2021 12:31:44] \"POST //habit HTTP/1.1\" 200 -\n"
     ]
    },
    {
     "name": "stdout",
     "output_type": "stream",
     "text": [
      "Error while connecting to PostgreSQL duplicate key value violates unique constraint \"task_un\"\n",
      "DETAIL:  Key (name, date)=(test, 2021-10-01) already exists.\n",
      "\n",
      "Inserting test  2021-10-01\n",
      "duplicate\n"
     ]
    },
    {
     "name": "stderr",
     "output_type": "stream",
     "text": [
      "192.168.86.50 - - [14/Dec/2021 12:32:04] \"POST //habit HTTP/1.1\" 200 -\n",
      "192.168.86.50 - - [14/Dec/2021 12:32:04] \"POST //habit HTTP/1.1\" 200 -\n",
      "192.168.86.50 - - [14/Dec/2021 12:32:04] \"POST //habit HTTP/1.1\" 200 -\n"
     ]
    },
    {
     "name": "stdout",
     "output_type": "stream",
     "text": [
      "Error while connecting to PostgreSQL duplicate key value violates unique constraint \"task_un\"\n",
      "DETAIL:  Key (name, date)=(test, 2021-10-01) already exists.\n",
      "\n",
      "Inserting test  2021-10-01\n",
      "duplicate\n",
      "Error while connecting to PostgreSQL duplicate key value violates unique constraint \"task_un\"\n",
      "DETAIL:  Key (name, date)=(test, 2021-10-01) already exists.\n",
      "\n",
      "Inserting test  2021-10-01\n",
      "duplicate\n",
      "Error while connecting to PostgreSQL duplicate key value violates unique constraint \"task_un\"\n",
      "DETAIL:  Key (name, date)=(test, 2021-10-01) already exists.\n",
      "\n",
      "Inserting test  2021-10-01\n",
      "duplicate\n",
      "Error while connecting to PostgreSQL duplicate key value violates unique constraint \"task_un\"\n",
      "DETAIL:  Key (name, date)=(test, 2021-10-01) already exists.\n",
      "\n"
     ]
    },
    {
     "name": "stderr",
     "output_type": "stream",
     "text": [
      "192.168.86.50 - - [14/Dec/2021 12:32:04] \"POST //habit HTTP/1.1\" 200 -\n",
      "192.168.86.50 - - [14/Dec/2021 12:32:04] \"POST //habit HTTP/1.1\" 200 -\n",
      "192.168.86.50 - - [14/Dec/2021 12:32:04] \"POST //habit HTTP/1.1\" 200 -\n"
     ]
    },
    {
     "name": "stdout",
     "output_type": "stream",
     "text": [
      "Inserting test  2021-10-01\n",
      "duplicate\n",
      "Error while connecting to PostgreSQL duplicate key value violates unique constraint \"task_un\"\n",
      "DETAIL:  Key (name, date)=(test, 2021-10-01) already exists.\n",
      "\n",
      "Inserting test  2021-10-01\n",
      "duplicate\n",
      "Error while connecting to PostgreSQL duplicate key value violates unique constraint \"task_un\"\n",
      "DETAIL:  Key (name, date)=(test, 2021-10-01) already exists.\n",
      "\n",
      "Inserting test  2021-10-01\n",
      "duplicate\n",
      "Error while connecting to PostgreSQL"
     ]
    },
    {
     "name": "stderr",
     "output_type": "stream",
     "text": [
      "192.168.86.50 - - [14/Dec/2021 12:32:04] \"POST //habit HTTP/1.1\" 200 -\n",
      "192.168.86.50 - - [14/Dec/2021 12:32:04] \"POST //habit HTTP/1.1\" 200 -\n",
      "192.168.86.50 - - [14/Dec/2021 12:32:04] \"POST //habit HTTP/1.1\" 200 -\n",
      "192.168.86.50 - - [14/Dec/2021 12:32:04] \"POST //habit HTTP/1.1\" 200 -\n"
     ]
    },
    {
     "name": "stdout",
     "output_type": "stream",
     "text": [
      " duplicate key value violates unique constraint \"task_un\"\n",
      "DETAIL:  Key (name, date)=(test, 2021-10-01) already exists.\n",
      "\n",
      "Inserting test  2021-10-01\n",
      "duplicate\n",
      "Error while connecting to PostgreSQL duplicate key value violates unique constraint \"task_un\"\n",
      "DETAIL:  Key (name, date)=(test, 2021-10-01) already exists.\n",
      "\n",
      "Inserting test  2021-10-01\n",
      "duplicate\n",
      "Error while connecting to PostgreSQL duplicate key value violates unique constraint \"task_un\"\n",
      "DETAIL:  Key (name, date)=(test, 2021-10-01) already exists.\n",
      "\n",
      "Inserting test  2021-10-01\n",
      "duplicate\n",
      "Error while connecting to PostgreSQL duplicate key value violates unique constraint \"task_un\"\n",
      "DETAIL:  Key (name, date)=(test, 2021-10-01) already exists.\n",
      "\n",
      "Inserting test  2021-10-01\n",
      "duplicate\n"
     ]
    },
    {
     "name": "stderr",
     "output_type": "stream",
     "text": [
      "192.168.86.50 - - [14/Dec/2021 12:32:04] \"POST //habit HTTP/1.1\" 200 -\n",
      "192.168.86.50 - - [14/Dec/2021 12:32:04] \"POST //habit HTTP/1.1\" 200 -\n",
      "192.168.86.50 - - [14/Dec/2021 12:32:04] \"POST //habit HTTP/1.1\" 200 -\n"
     ]
    },
    {
     "name": "stdout",
     "output_type": "stream",
     "text": [
      "Error while connecting to PostgreSQL duplicate key value violates unique constraint \"task_un\"\n",
      "DETAIL:  Key (name, date)=(test, 2021-10-01) already exists.\n",
      "\n",
      "Inserting test  2021-10-01\n",
      "duplicate\n",
      "Error while connecting to PostgreSQL duplicate key value violates unique constraint \"task_un\"\n",
      "DETAIL:  Key (name, date)=(test, 2021-10-01) already exists.\n",
      "\n",
      "Inserting test  2021-10-01\n",
      "duplicate\n",
      "Error while connecting to PostgreSQL duplicate key value violates unique constraint \"task_un\"\n",
      "DETAIL:  Key (name, date)=(test, 2021-10-01) already exists.\n",
      "\n",
      "Inserting test  2021-10-01\n",
      "duplicate\n",
      "Error while connecting to PostgreSQL"
     ]
    },
    {
     "name": "stderr",
     "output_type": "stream",
     "text": [
      "192.168.86.50 - - [14/Dec/2021 12:32:04] \"POST //habit HTTP/1.1\" 200 -\n",
      "192.168.86.50 - - [14/Dec/2021 12:32:05] \"POST //habit HTTP/1.1\" 200 -\n",
      "192.168.86.50 - - [14/Dec/2021 12:32:05] \"POST //habit HTTP/1.1\" 200 -\n"
     ]
    },
    {
     "name": "stdout",
     "output_type": "stream",
     "text": [
      " duplicate key value violates unique constraint \"task_un\"\n",
      "DETAIL:  Key (name, date)=(test, 2021-10-01) already exists.\n",
      "\n",
      "Inserting test  2021-10-01\n",
      "duplicate\n",
      "Error while connecting to PostgreSQL duplicate key value violates unique constraint \"task_un\"\n",
      "DETAIL:  Key (name, date)=(test, 2021-10-01) already exists.\n",
      "\n",
      "Inserting test  2021-10-01\n",
      "duplicate\n",
      "Error while connecting to PostgreSQL duplicate key value violates unique constraint \"task_un\"\n",
      "DETAIL:  Key (name, date)=(test, 2021-10-01) already exists.\n",
      "\n",
      "Inserting test  2021-10-01\n",
      "duplicate\n",
      "Error while connecting to PostgreSQL"
     ]
    },
    {
     "name": "stderr",
     "output_type": "stream",
     "text": [
      "192.168.86.50 - - [14/Dec/2021 12:32:05] \"POST //habit HTTP/1.1\" 200 -\n",
      "192.168.86.50 - - [14/Dec/2021 12:32:05] \"POST //habit HTTP/1.1\" 200 -\n",
      "192.168.86.50 - - [14/Dec/2021 12:32:05] \"POST //habit HTTP/1.1\" 200 -\n"
     ]
    },
    {
     "name": "stdout",
     "output_type": "stream",
     "text": [
      " duplicate key value violates unique constraint \"task_un\"\n",
      "DETAIL:  Key (name, date)=(test, 2021-10-01) already exists.\n",
      "\n",
      "Inserting test  2021-10-01\n",
      "duplicate\n",
      "Error while connecting to PostgreSQL duplicate key value violates unique constraint \"task_un\"\n",
      "DETAIL:  Key (name, date)=(test, 2021-10-01) already exists.\n",
      "\n",
      "Inserting test  2021-10-01\n",
      "duplicate\n",
      "Error while connecting to PostgreSQL duplicate key value violates unique constraint \"task_un\"\n",
      "DETAIL:  Key (name, date)=(test, 2021-10-01) already exists.\n",
      "\n",
      "Inserting test  2021-10-01\n",
      "duplicate\n",
      "Error while connecting to PostgreSQL duplicate key value violates unique constraint \"task_un\"\n",
      "DETAIL:  Key (name, date)=(test, 2021-10-01) already exists.\n",
      "\n"
     ]
    },
    {
     "name": "stderr",
     "output_type": "stream",
     "text": [
      "192.168.86.50 - - [14/Dec/2021 12:32:05] \"POST //habit HTTP/1.1\" 200 -\n",
      "192.168.86.50 - - [14/Dec/2021 12:32:05] \"POST //habit HTTP/1.1\" 200 -\n",
      "192.168.86.50 - - [14/Dec/2021 12:32:05] \"POST //habit HTTP/1.1\" 200 -\n"
     ]
    },
    {
     "name": "stdout",
     "output_type": "stream",
     "text": [
      "Inserting test  2021-10-01\n",
      "duplicate\n",
      "Error while connecting to PostgreSQL duplicate key value violates unique constraint \"task_un\"\n",
      "DETAIL:  Key (name, date)=(test, 2021-10-01) already exists.\n",
      "\n",
      "Inserting test  2021-10-01\n",
      "duplicate\n",
      "Error while connecting to PostgreSQL duplicate key value violates unique constraint \"task_un\"\n",
      "DETAIL:  Key (name, date)=(test, 2021-10-01) already exists.\n",
      "\n",
      "Inserting test  2021-10-01\n",
      "duplicate\n",
      "Error while connecting to PostgreSQL duplicate key value violates unique constraint \"task_un\"\n",
      "DETAIL:  Key (name, date)=(test, 2021-10-01) already exists.\n",
      "\n"
     ]
    },
    {
     "name": "stderr",
     "output_type": "stream",
     "text": [
      "192.168.86.50 - - [14/Dec/2021 12:32:05] \"POST //habit HTTP/1.1\" 200 -\n",
      "192.168.86.50 - - [14/Dec/2021 12:32:05] \"POST //habit HTTP/1.1\" 200 -\n",
      "192.168.86.50 - - [14/Dec/2021 12:32:05] \"POST //habit HTTP/1.1\" 200 -\n"
     ]
    },
    {
     "name": "stdout",
     "output_type": "stream",
     "text": [
      "Inserting test  2021-10-01\n",
      "duplicate\n",
      "Error while connecting to PostgreSQL duplicate key value violates unique constraint \"task_un\"\n",
      "DETAIL:  Key (name, date)=(test, 2021-10-01) already exists.\n",
      "\n",
      "Inserting test  2021-10-01\n",
      "duplicate\n",
      "Error while connecting to PostgreSQL duplicate key value violates unique constraint \"task_un\"\n",
      "DETAIL:  Key (name, date)=(test, 2021-10-01) already exists.\n",
      "\n",
      "Inserting test  2021-10-01\n",
      "duplicate\n",
      "Error while connecting to PostgreSQL"
     ]
    },
    {
     "name": "stderr",
     "output_type": "stream",
     "text": [
      "192.168.86.50 - - [14/Dec/2021 12:32:05] \"POST //habit HTTP/1.1\" 200 -\n",
      "192.168.86.50 - - [14/Dec/2021 12:32:05] \"POST //habit HTTP/1.1\" 200 -\n",
      "192.168.86.50 - - [14/Dec/2021 12:32:05] \"POST //habit HTTP/1.1\" 200 -\n"
     ]
    },
    {
     "name": "stdout",
     "output_type": "stream",
     "text": [
      " duplicate key value violates unique constraint \"task_un\"\n",
      "DETAIL:  Key (name, date)=(test, 2021-10-01) already exists.\n",
      "\n",
      "Inserting test  2021-10-01\n",
      "duplicate\n",
      "Error while connecting to PostgreSQL duplicate key value violates unique constraint \"task_un\"\n",
      "DETAIL:  Key (name, date)=(test, 2021-10-01) already exists.\n",
      "\n",
      "Inserting test  2021-10-01\n",
      "duplicate\n",
      "Error while connecting to PostgreSQL duplicate key value violates unique constraint \"task_un\"\n",
      "DETAIL:  Key (name, date)=(test, 2021-10-01) already exists.\n",
      "\n",
      "Inserting test  2021-10-01\n",
      "duplicate\n",
      "Error while connecting to PostgreSQL"
     ]
    },
    {
     "name": "stderr",
     "output_type": "stream",
     "text": [
      "192.168.86.50 - - [14/Dec/2021 12:32:05] \"POST //habit HTTP/1.1\" 200 -\n",
      "192.168.86.50 - - [14/Dec/2021 12:32:05] \"POST //habit HTTP/1.1\" 200 -\n",
      "192.168.86.50 - - [14/Dec/2021 12:32:06] \"POST //habit HTTP/1.1\" 200 -\n"
     ]
    },
    {
     "name": "stdout",
     "output_type": "stream",
     "text": [
      " duplicate key value violates unique constraint \"task_un\"\n",
      "DETAIL:  Key (name, date)=(test, 2021-10-01) already exists.\n",
      "\n",
      "Inserting test  2021-10-01\n",
      "duplicate\n",
      "Error while connecting to PostgreSQL duplicate key value violates unique constraint \"task_un\"\n",
      "DETAIL:  Key (name, date)=(test, 2021-10-01) already exists.\n",
      "\n",
      "Inserting test  2021-10-01\n",
      "duplicate\n",
      "Error while connecting to PostgreSQL duplicate key value violates unique constraint \"task_un\"\n",
      "DETAIL:  Key (name, date)=(test, 2021-10-01) already exists.\n",
      "\n",
      "Inserting test  2021-10-01\n",
      "duplicate\n",
      "Error while connecting to PostgreSQL"
     ]
    },
    {
     "name": "stderr",
     "output_type": "stream",
     "text": [
      "192.168.86.50 - - [14/Dec/2021 12:32:06] \"POST //habit HTTP/1.1\" 200 -\n",
      "192.168.86.50 - - [14/Dec/2021 12:32:06] \"POST //habit HTTP/1.1\" 200 -\n",
      "192.168.86.50 - - [14/Dec/2021 12:32:06] \"POST //habit HTTP/1.1\" 200 -\n"
     ]
    },
    {
     "name": "stdout",
     "output_type": "stream",
     "text": [
      " duplicate key value violates unique constraint \"task_un\"\n",
      "DETAIL:  Key (name, date)=(test, 2021-10-01) already exists.\n",
      "\n",
      "Inserting test  2021-10-01\n",
      "duplicate\n",
      "Error while connecting to PostgreSQL duplicate key value violates unique constraint \"task_un\"\n",
      "DETAIL:  Key (name, date)=(test, 2021-10-01) already exists.\n",
      "\n",
      "Inserting test  2021-10-01\n",
      "duplicate\n",
      "Error while connecting to PostgreSQL duplicate key value violates unique constraint \"task_un\"\n",
      "DETAIL:  Key (name, date)=(test, 2021-10-01) already exists.\n",
      "\n",
      "Inserting test  2021-10-01\n",
      "duplicate\n",
      "Error while connecting to PostgreSQL duplicate key value violates unique constraint \"task_un\"\n",
      "DETAIL:  Key (name, date)=(test, 2021-10-01) already exists.\n",
      "\n"
     ]
    },
    {
     "name": "stderr",
     "output_type": "stream",
     "text": [
      "192.168.86.50 - - [14/Dec/2021 12:32:06] \"POST //habit HTTP/1.1\" 200 -\n",
      "192.168.86.50 - - [14/Dec/2021 12:32:06] \"POST //habit HTTP/1.1\" 200 -\n",
      "192.168.86.50 - - [14/Dec/2021 12:32:06] \"POST //habit HTTP/1.1\" 200 -\n"
     ]
    },
    {
     "name": "stdout",
     "output_type": "stream",
     "text": [
      "Inserting test  2021-10-01\n",
      "duplicate\n",
      "Error while connecting to PostgreSQL duplicate key value violates unique constraint \"task_un\"\n",
      "DETAIL:  Key (name, date)=(test, 2021-10-01) already exists.\n",
      "\n",
      "Inserting test  2021-10-01\n",
      "duplicate\n",
      "Error while connecting to PostgreSQL duplicate key value violates unique constraint \"task_un\"\n",
      "DETAIL:  Key (name, date)=(test, 2021-10-01) already exists.\n",
      "\n",
      "Inserting test  2021-10-01\n",
      "duplicate\n",
      "Error while connecting to PostgreSQL duplicate key value violates unique constraint \"task_un\"\n",
      "DETAIL:  Key (name, date)=(test, 2021-10-01) already exists.\n"
     ]
    },
    {
     "name": "stderr",
     "output_type": "stream",
     "text": [
      "192.168.86.50 - - [14/Dec/2021 12:32:06] \"POST //habit HTTP/1.1\" 200 -\n",
      "192.168.86.50 - - [14/Dec/2021 12:32:06] \"POST //habit HTTP/1.1\" 200 -\n",
      "192.168.86.50 - - [14/Dec/2021 12:32:06] \"POST //habit HTTP/1.1\" 200 -\n",
      "192.168.86.50 - - [14/Dec/2021 12:32:06] \"POST //habit HTTP/1.1\" 200 -\n"
     ]
    },
    {
     "name": "stdout",
     "output_type": "stream",
     "text": [
      "\n",
      "Inserting test  2021-10-01\n",
      "duplicate\n",
      "Error while connecting to PostgreSQL duplicate key value violates unique constraint \"task_un\"\n",
      "DETAIL:  Key (name, date)=(test, 2021-10-01) already exists.\n",
      "\n",
      "Inserting test  2021-10-01\n",
      "duplicate\n",
      "Error while connecting to PostgreSQL duplicate key value violates unique constraint \"task_un\"\n",
      "DETAIL:  Key (name, date)=(test, 2021-10-01) already exists.\n",
      "\n",
      "Inserting test  2021-10-01\n",
      "duplicate\n",
      "Error while connecting to PostgreSQL duplicate key value violates unique constraint \"task_un\"\n",
      "DETAIL:  Key (name, date)=(test, 2021-10-01) already exists.\n",
      "\n",
      "Inserting test  2021-10-01\n",
      "duplicate\n"
     ]
    },
    {
     "name": "stderr",
     "output_type": "stream",
     "text": [
      "192.168.86.50 - - [14/Dec/2021 12:32:06] \"POST //habit HTTP/1.1\" 200 -\n",
      "192.168.86.50 - - [14/Dec/2021 12:32:06] \"POST //habit HTTP/1.1\" 200 -\n",
      "192.168.86.50 - - [14/Dec/2021 12:32:06] \"POST //habit HTTP/1.1\" 200 -\n"
     ]
    },
    {
     "name": "stdout",
     "output_type": "stream",
     "text": [
      "Error while connecting to PostgreSQL duplicate key value violates unique constraint \"task_un\"\n",
      "DETAIL:  Key (name, date)=(test, 2021-10-01) already exists.\n",
      "\n",
      "Inserting test  2021-10-01\n",
      "duplicate\n",
      "Error while connecting to PostgreSQL duplicate key value violates unique constraint \"task_un\"\n",
      "DETAIL:  Key (name, date)=(test, 2021-10-01) already exists.\n",
      "\n",
      "Inserting test  2021-10-01\n",
      "duplicate\n",
      "Error while connecting to PostgreSQL duplicate key value violates unique constraint \"task_un\"\n",
      "DETAIL:  Key (name, date)=(test, 2021-10-01) already exists.\n",
      "\n",
      "Inserting test  2021-10-01\n",
      "duplicate\n",
      "Error while connecting to PostgreSQL"
     ]
    },
    {
     "name": "stderr",
     "output_type": "stream",
     "text": [
      "192.168.86.50 - - [14/Dec/2021 12:32:06] \"POST //habit HTTP/1.1\" 200 -\n",
      "192.168.86.50 - - [14/Dec/2021 12:32:06] \"POST //habit HTTP/1.1\" 200 -\n",
      "192.168.86.50 - - [14/Dec/2021 12:32:07] \"POST //habit HTTP/1.1\" 200 -\n"
     ]
    },
    {
     "name": "stdout",
     "output_type": "stream",
     "text": [
      " duplicate key value violates unique constraint \"task_un\"\n",
      "DETAIL:  Key (name, date)=(test, 2021-10-01) already exists.\n",
      "\n",
      "Inserting test  2021-10-01\n",
      "duplicate\n",
      "Error while connecting to PostgreSQL duplicate key value violates unique constraint \"task_un\"\n",
      "DETAIL:  Key (name, date)=(test, 2021-10-01) already exists.\n",
      "\n",
      "Inserting test  2021-10-01\n",
      "duplicate\n",
      "Error while connecting to PostgreSQL duplicate key value violates unique constraint \"task_un\"\n",
      "DETAIL:  Key (name, date)=(test, 2021-10-01) already exists.\n",
      "\n",
      "Inserting test  2021-10-01\n",
      "duplicate\n",
      "Error while connecting to PostgreSQL"
     ]
    },
    {
     "name": "stderr",
     "output_type": "stream",
     "text": [
      "192.168.86.50 - - [14/Dec/2021 12:32:07] \"POST //habit HTTP/1.1\" 200 -\n",
      "192.168.86.50 - - [14/Dec/2021 12:32:07] \"POST //habit HTTP/1.1\" 200 -\n",
      "192.168.86.50 - - [14/Dec/2021 12:32:07] \"POST //habit HTTP/1.1\" 200 -\n"
     ]
    },
    {
     "name": "stdout",
     "output_type": "stream",
     "text": [
      " duplicate key value violates unique constraint \"task_un\"\n",
      "DETAIL:  Key (name, date)=(test, 2021-10-01) already exists.\n",
      "\n",
      "Inserting test  2021-10-01\n",
      "duplicate\n",
      "Error while connecting to PostgreSQL duplicate key value violates unique constraint \"task_un\"\n",
      "DETAIL:  Key (name, date)=(test, 2021-10-01) already exists.\n",
      "\n",
      "Inserting test  2021-10-01\n",
      "duplicate\n",
      "Error while connecting to PostgreSQL duplicate key value violates unique constraint \"task_un\"\n",
      "DETAIL:  Key (name, date)=(test, 2021-10-01) already exists.\n",
      "\n",
      "Inserting test  2021-10-01\n",
      "duplicate\n",
      "Error while connecting to PostgreSQL"
     ]
    },
    {
     "name": "stderr",
     "output_type": "stream",
     "text": [
      "192.168.86.50 - - [14/Dec/2021 12:32:07] \"POST //habit HTTP/1.1\" 200 -\n",
      "192.168.86.50 - - [14/Dec/2021 12:32:07] \"POST //habit HTTP/1.1\" 200 -\n",
      "192.168.86.50 - - [14/Dec/2021 12:32:07] \"POST //habit HTTP/1.1\" 200 -\n"
     ]
    },
    {
     "name": "stdout",
     "output_type": "stream",
     "text": [
      " duplicate key value violates unique constraint \"task_un\"\n",
      "DETAIL:  Key (name, date)=(test, 2021-10-01) already exists.\n",
      "\n",
      "Inserting test  2021-10-01\n",
      "duplicate\n",
      "Error while connecting to PostgreSQL duplicate key value violates unique constraint \"task_un\"\n",
      "DETAIL:  Key (name, date)=(test, 2021-10-01) already exists.\n",
      "\n",
      "Inserting test  2021-10-01\n",
      "duplicate\n",
      "Error while connecting to PostgreSQL duplicate key value violates unique constraint \"task_un\"\n",
      "DETAIL:  Key (name, date)=(test, 2021-10-01) already exists.\n",
      "\n",
      "Inserting test  2021-10-01\n",
      "duplicate\n",
      "Error while connecting to PostgreSQL"
     ]
    },
    {
     "name": "stderr",
     "output_type": "stream",
     "text": [
      "192.168.86.50 - - [14/Dec/2021 12:32:07] \"POST //habit HTTP/1.1\" 200 -\n",
      "192.168.86.50 - - [14/Dec/2021 12:32:07] \"POST //habit HTTP/1.1\" 200 -\n",
      "192.168.86.50 - - [14/Dec/2021 12:32:07] \"POST //habit HTTP/1.1\" 200 -\n"
     ]
    },
    {
     "name": "stdout",
     "output_type": "stream",
     "text": [
      " duplicate key value violates unique constraint \"task_un\"\n",
      "DETAIL:  Key (name, date)=(test, 2021-10-01) already exists.\n",
      "\n",
      "Inserting test  2021-10-01\n",
      "duplicate\n",
      "Error while connecting to PostgreSQL duplicate key value violates unique constraint \"task_un\"\n",
      "DETAIL:  Key (name, date)=(test, 2021-10-01) already exists.\n",
      "\n",
      "Inserting test  2021-10-01\n",
      "duplicate\n",
      "Error while connecting to PostgreSQL duplicate key value violates unique constraint \"task_un\"\n",
      "DETAIL:  Key (name, date)=(test, 2021-10-01) already exists.\n",
      "\n",
      "Inserting test  2021-10-01\n",
      "duplicate\n",
      "Error while connecting to PostgreSQL"
     ]
    },
    {
     "name": "stderr",
     "output_type": "stream",
     "text": [
      "192.168.86.50 - - [14/Dec/2021 12:32:07] \"POST //habit HTTP/1.1\" 200 -\n",
      "192.168.86.50 - - [14/Dec/2021 12:32:07] \"POST //habit HTTP/1.1\" 200 -\n",
      "192.168.86.50 - - [14/Dec/2021 12:32:07] \"POST //habit HTTP/1.1\" 200 -\n"
     ]
    },
    {
     "name": "stdout",
     "output_type": "stream",
     "text": [
      " duplicate key value violates unique constraint \"task_un\"\n",
      "DETAIL:  Key (name, date)=(test, 2021-10-01) already exists.\n",
      "\n",
      "Inserting test  2021-10-01\n",
      "duplicate\n",
      "Error while connecting to PostgreSQL duplicate key value violates unique constraint \"task_un\"\n",
      "DETAIL:  Key (name, date)=(test, 2021-10-01) already exists.\n",
      "\n",
      "Inserting test  2021-10-01\n",
      "duplicate\n",
      "Error while connecting to PostgreSQL duplicate key value violates unique constraint \"task_un\"\n",
      "DETAIL:  Key (name, date)=(test, 2021-10-01) already exists.\n",
      "\n",
      "Inserting test  2021-10-01\n",
      "duplicate\n",
      "Error while connecting to PostgreSQL duplicate key value violates unique constraint \"task_un\"\n",
      "DETAIL:  Key (name, date)=(test, 2021-10-01) already exists.\n"
     ]
    },
    {
     "name": "stderr",
     "output_type": "stream",
     "text": [
      "192.168.86.50 - - [14/Dec/2021 12:32:07] \"POST //habit HTTP/1.1\" 200 -\n",
      "192.168.86.50 - - [14/Dec/2021 12:32:07] \"POST //habit HTTP/1.1\" 200 -\n",
      "192.168.86.50 - - [14/Dec/2021 12:32:07] \"POST //habit HTTP/1.1\" 200 -\n"
     ]
    },
    {
     "name": "stdout",
     "output_type": "stream",
     "text": [
      "\n",
      "Inserting test  2021-10-01\n",
      "duplicate\n",
      "Error while connecting to PostgreSQL duplicate key value violates unique constraint \"task_un\"\n",
      "DETAIL:  Key (name, date)=(test, 2021-10-01) already exists.\n",
      "\n",
      "Inserting test  2021-10-01\n",
      "duplicate\n",
      "Error while connecting to PostgreSQL duplicate key value violates unique constraint \"task_un\"\n",
      "DETAIL:  Key (name, date)=(test, 2021-10-01) already exists.\n",
      "\n",
      "Inserting test  2021-10-01\n",
      "duplicate\n",
      "Error while connecting to PostgreSQL"
     ]
    },
    {
     "name": "stderr",
     "output_type": "stream",
     "text": [
      "192.168.86.50 - - [14/Dec/2021 12:32:08] \"POST //habit HTTP/1.1\" 200 -\n",
      "192.168.86.50 - - [14/Dec/2021 12:32:08] \"POST //habit HTTP/1.1\" 200 -\n",
      "192.168.86.50 - - [14/Dec/2021 12:32:08] \"POST //habit HTTP/1.1\" 200 -\n"
     ]
    },
    {
     "name": "stdout",
     "output_type": "stream",
     "text": [
      " duplicate key value violates unique constraint \"task_un\"\n",
      "DETAIL:  Key (name, date)=(test, 2021-10-01) already exists.\n",
      "\n",
      "Inserting test  2021-10-01\n",
      "duplicate\n",
      "Error while connecting to PostgreSQL duplicate key value violates unique constraint \"task_un\"\n",
      "DETAIL:  Key (name, date)=(test, 2021-10-01) already exists.\n",
      "\n",
      "Inserting test  2021-10-01\n",
      "duplicate\n",
      "Error while connecting to PostgreSQL duplicate key value violates unique constraint \"task_un\"\n",
      "DETAIL:  Key (name, date)=(test, 2021-10-01) already exists.\n",
      "\n",
      "Inserting test  2021-10-01\n",
      "duplicate\n"
     ]
    },
    {
     "name": "stderr",
     "output_type": "stream",
     "text": [
      "192.168.86.50 - - [14/Dec/2021 12:32:08] \"POST //habit HTTP/1.1\" 200 -\n",
      "192.168.86.50 - - [14/Dec/2021 12:32:08] \"POST //habit HTTP/1.1\" 200 -\n",
      "192.168.86.50 - - [14/Dec/2021 12:32:08] \"POST //habit HTTP/1.1\" 200 -\n"
     ]
    },
    {
     "name": "stdout",
     "output_type": "stream",
     "text": [
      "Error while connecting to PostgreSQL duplicate key value violates unique constraint \"task_un\"\n",
      "DETAIL:  Key (name, date)=(test, 2021-10-01) already exists.\n",
      "\n",
      "Inserting test  2021-10-01\n",
      "duplicate\n",
      "Error while connecting to PostgreSQL duplicate key value violates unique constraint \"task_un\"\n",
      "DETAIL:  Key (name, date)=(test, 2021-10-01) already exists.\n",
      "\n",
      "Inserting test  2021-10-01\n",
      "duplicate\n",
      "Error while connecting to PostgreSQL duplicate key value violates unique constraint \"task_un\"\n",
      "DETAIL:  Key (name, date)=(test, 2021-10-01) already exists.\n",
      "\n",
      "Inserting test  2021-10-01\n",
      "duplicate\n",
      "Error while connecting to PostgreSQL"
     ]
    },
    {
     "name": "stderr",
     "output_type": "stream",
     "text": [
      "192.168.86.50 - - [14/Dec/2021 12:32:08] \"POST //habit HTTP/1.1\" 200 -\n",
      "192.168.86.50 - - [14/Dec/2021 12:32:08] \"POST //habit HTTP/1.1\" 200 -\n",
      "192.168.86.50 - - [14/Dec/2021 12:32:08] \"POST //habit HTTP/1.1\" 200 -\n",
      "192.168.86.50 - - [14/Dec/2021 12:32:08] \"POST //habit HTTP/1.1\" 200 -\n"
     ]
    },
    {
     "name": "stdout",
     "output_type": "stream",
     "text": [
      " duplicate key value violates unique constraint \"task_un\"\n",
      "DETAIL:  Key (name, date)=(test, 2021-10-01) already exists.\n",
      "\n",
      "Inserting test  2021-10-01\n",
      "duplicate\n",
      "Error while connecting to PostgreSQL duplicate key value violates unique constraint \"task_un\"\n",
      "DETAIL:  Key (name, date)=(test, 2021-10-01) already exists.\n",
      "\n",
      "Inserting test  2021-10-01\n",
      "duplicate\n",
      "Error while connecting to PostgreSQL duplicate key value violates unique constraint \"task_un\"\n",
      "DETAIL:  Key (name, date)=(test, 2021-10-01) already exists.\n",
      "\n",
      "Inserting test  2021-10-01\n",
      "duplicate\n",
      "Error while connecting to PostgreSQL duplicate key value violates unique constraint \"task_un\"\n",
      "DETAIL:  Key (name, date)=(test, 2021-10-01) already exists.\n",
      "\n",
      "Inserting test  2021-10-01\n",
      "duplicate\n"
     ]
    },
    {
     "name": "stderr",
     "output_type": "stream",
     "text": [
      "192.168.86.50 - - [14/Dec/2021 12:32:08] \"POST //habit HTTP/1.1\" 200 -\n",
      "192.168.86.50 - - [14/Dec/2021 12:32:08] \"POST //habit HTTP/1.1\" 200 -\n",
      "192.168.86.50 - - [14/Dec/2021 12:32:08] \"POST //habit HTTP/1.1\" 200 -\n"
     ]
    },
    {
     "name": "stdout",
     "output_type": "stream",
     "text": [
      "Error while connecting to PostgreSQL duplicate key value violates unique constraint \"task_un\"\n",
      "DETAIL:  Key (name, date)=(test, 2021-10-01) already exists.\n",
      "\n",
      "Inserting test  2021-10-01\n",
      "duplicate\n",
      "Error while connecting to PostgreSQL duplicate key value violates unique constraint \"task_un\"\n",
      "DETAIL:  Key (name, date)=(test, 2021-10-01) already exists.\n",
      "\n",
      "Inserting test  2021-10-01\n",
      "duplicate\n",
      "Error while connecting to PostgreSQL duplicate key value violates unique constraint \"task_un\"\n",
      "DETAIL:  Key (name, date)=(test, 2021-10-01) already exists.\n",
      "\n",
      "Inserting test  2021-10-01\n",
      "duplicate\n"
     ]
    },
    {
     "name": "stderr",
     "output_type": "stream",
     "text": [
      "192.168.86.50 - - [14/Dec/2021 12:32:08] \"POST //habit HTTP/1.1\" 200 -\n",
      "192.168.86.50 - - [14/Dec/2021 12:32:08] \"POST //habit HTTP/1.1\" 200 -\n",
      "192.168.86.50 - - [14/Dec/2021 12:32:09] \"POST //habit HTTP/1.1\" 200 -\n"
     ]
    },
    {
     "name": "stdout",
     "output_type": "stream",
     "text": [
      "Error while connecting to PostgreSQL duplicate key value violates unique constraint \"task_un\"\n",
      "DETAIL:  Key (name, date)=(test, 2021-10-01) already exists.\n",
      "\n",
      "Inserting test  2021-10-01\n",
      "duplicate\n",
      "Error while connecting to PostgreSQL duplicate key value violates unique constraint \"task_un\"\n",
      "DETAIL:  Key (name, date)=(test, 2021-10-01) already exists.\n",
      "\n",
      "Inserting test  2021-10-01\n",
      "duplicate\n",
      "Error while connecting to PostgreSQL duplicate key value violates unique constraint \"task_un\"\n",
      "DETAIL:  Key (name, date)=(test, 2021-10-01) already exists.\n",
      "\n",
      "Inserting test  2021-10-01\n",
      "duplicate\n",
      "Error while connecting to PostgreSQL duplicate key value violates unique constraint \"task_un\"\n",
      "DETAIL:  Key (name, date)=(test, 2021-10-01) already exists.\n",
      "\n"
     ]
    },
    {
     "name": "stderr",
     "output_type": "stream",
     "text": [
      "192.168.86.50 - - [14/Dec/2021 12:32:09] \"POST //habit HTTP/1.1\" 200 -\n",
      "192.168.86.50 - - [14/Dec/2021 12:32:09] \"POST //habit HTTP/1.1\" 200 -\n",
      "192.168.86.50 - - [14/Dec/2021 12:32:09] \"POST //habit HTTP/1.1\" 200 -\n"
     ]
    },
    {
     "name": "stdout",
     "output_type": "stream",
     "text": [
      "Inserting test  2021-10-01\n",
      "duplicate\n",
      "Error while connecting to PostgreSQL duplicate key value violates unique constraint \"task_un\"\n",
      "DETAIL:  Key (name, date)=(test, 2021-10-01) already exists.\n",
      "\n",
      "Inserting test  2021-10-01\n",
      "duplicate\n",
      "Error while connecting to PostgreSQL duplicate key value violates unique constraint \"task_un\"\n",
      "DETAIL:  Key (name, date)=(test, 2021-10-01) already exists.\n",
      "\n",
      "Inserting test  2021-10-01\n",
      "duplicate\n",
      "Error while connecting to PostgreSQL duplicate key value violates unique constraint \"task_un\"\n",
      "DETAIL:  Key (name, date)=(test, 2021-10-01) already exists.\n",
      "\n"
     ]
    },
    {
     "name": "stderr",
     "output_type": "stream",
     "text": [
      "192.168.86.50 - - [14/Dec/2021 12:32:09] \"POST //habit HTTP/1.1\" 200 -\n",
      "192.168.86.50 - - [14/Dec/2021 12:32:09] \"POST //habit HTTP/1.1\" 200 -\n",
      "192.168.86.50 - - [14/Dec/2021 12:32:09] \"POST //habit HTTP/1.1\" 200 -\n"
     ]
    },
    {
     "name": "stdout",
     "output_type": "stream",
     "text": [
      "Inserting test  2021-10-01\n",
      "duplicate\n",
      "Error while connecting to PostgreSQL duplicate key value violates unique constraint \"task_un\"\n",
      "DETAIL:  Key (name, date)=(test, 2021-10-01) already exists.\n",
      "\n",
      "Inserting test  2021-10-01\n",
      "duplicate\n",
      "Error while connecting to PostgreSQL duplicate key value violates unique constraint \"task_un\"\n",
      "DETAIL:  Key (name, date)=(test, 2021-10-01) already exists.\n",
      "\n",
      "Inserting test  2021-10-01\n",
      "duplicate\n",
      "Error while connecting to PostgreSQL"
     ]
    },
    {
     "name": "stderr",
     "output_type": "stream",
     "text": [
      "192.168.86.50 - - [14/Dec/2021 12:32:09] \"POST //habit HTTP/1.1\" 200 -\n",
      "192.168.86.50 - - [14/Dec/2021 12:32:09] \"POST //habit HTTP/1.1\" 200 -\n",
      "192.168.86.50 - - [14/Dec/2021 12:32:09] \"POST //habit HTTP/1.1\" 200 -\n"
     ]
    },
    {
     "name": "stdout",
     "output_type": "stream",
     "text": [
      " duplicate key value violates unique constraint \"task_un\"\n",
      "DETAIL:  Key (name, date)=(test, 2021-10-01) already exists.\n",
      "\n",
      "Inserting test  2021-10-01\n",
      "duplicate\n",
      "Error while connecting to PostgreSQL duplicate key value violates unique constraint \"task_un\"\n",
      "DETAIL:  Key (name, date)=(test, 2021-10-01) already exists.\n",
      "\n",
      "Inserting test  2021-10-01\n",
      "duplicate\n",
      "Error while connecting to PostgreSQL duplicate key value violates unique constraint \"task_un\"\n",
      "DETAIL:  Key (name, date)=(test, 2021-10-01) already exists.\n",
      "\n",
      "Inserting test  2021-10-01\n",
      "duplicate\n",
      "Error while connecting to PostgreSQL duplicate key value violates unique constraint \"task_un\"\n",
      "DETAIL:  Key (name, date)=(test, 2021-10-01) already exists.\n",
      "\n"
     ]
    },
    {
     "name": "stderr",
     "output_type": "stream",
     "text": [
      "192.168.86.50 - - [14/Dec/2021 12:32:09] \"POST //habit HTTP/1.1\" 200 -\n",
      "192.168.86.50 - - [14/Dec/2021 12:32:09] \"POST //habit HTTP/1.1\" 200 -\n",
      "192.168.86.50 - - [14/Dec/2021 12:32:09] \"POST //habit HTTP/1.1\" 200 -\n"
     ]
    },
    {
     "name": "stdout",
     "output_type": "stream",
     "text": [
      "Inserting test  2021-10-01\n",
      "duplicate\n",
      "Error while connecting to PostgreSQL duplicate key value violates unique constraint \"task_un\"\n",
      "DETAIL:  Key (name, date)=(test, 2021-10-01) already exists.\n",
      "\n",
      "Inserting test  2021-10-01\n",
      "duplicate\n",
      "Error while connecting to PostgreSQL duplicate key value violates unique constraint \"task_un\"\n",
      "DETAIL:  Key (name, date)=(test, 2021-10-01) already exists.\n",
      "\n",
      "Inserting test  2021-10-01\n",
      "duplicate\n"
     ]
    },
    {
     "name": "stderr",
     "output_type": "stream",
     "text": [
      "192.168.86.50 - - [14/Dec/2021 12:34:11] \"POST //habit HTTP/1.1\" 200 -\n"
     ]
    },
    {
     "name": "stdout",
     "output_type": "stream",
     "text": [
      "Error while connecting to PostgreSQL duplicate key value violates unique constraint \"task_un\"\n",
      "DETAIL:  Key (name, date)=(test, 2021-10-01) already exists.\n",
      "\n",
      "Inserting test  2021-10-01\n",
      "duplicate\n"
     ]
    },
    {
     "name": "stderr",
     "output_type": "stream",
     "text": [
      "192.168.86.50 - - [14/Dec/2021 12:34:16] \"POST //habit HTTP/1.1\" 200 -\n"
     ]
    },
    {
     "name": "stdout",
     "output_type": "stream",
     "text": [
      "Error while connecting to PostgreSQL duplicate key value violates unique constraint \"task_un\"\n",
      "DETAIL:  Key (name, date)=(test, 2021-10-01) already exists.\n",
      "\n",
      "Inserting test  2021-10-01\n",
      "duplicate\n"
     ]
    },
    {
     "name": "stderr",
     "output_type": "stream",
     "text": [
      "192.168.86.50 - - [14/Dec/2021 12:34:39] \"POST //habit HTTP/1.1\" 200 -\n"
     ]
    },
    {
     "name": "stdout",
     "output_type": "stream",
     "text": [
      "Error while connecting to PostgreSQL duplicate key value violates unique constraint \"task_un\"\n",
      "DETAIL:  Key (name, date)=(test, 2021-10-01) already exists.\n",
      "\n",
      "Inserting test  2021-10-01\n",
      "duplicate\n"
     ]
    },
    {
     "name": "stderr",
     "output_type": "stream",
     "text": [
      "192.168.86.50 - - [14/Dec/2021 12:34:48] \"POST //habit HTTP/1.1\" 200 -\n"
     ]
    },
    {
     "name": "stdout",
     "output_type": "stream",
     "text": [
      "Error while connecting to PostgreSQL duplicate key value violates unique constraint \"task_un\"\n",
      "DETAIL:  Key (name, date)=(test, 2021-10-01) already exists.\n",
      "\n",
      "Inserting test  2021-10-01\n",
      "duplicate\n"
     ]
    },
    {
     "name": "stderr",
     "output_type": "stream",
     "text": [
      "192.168.86.50 - - [14/Dec/2021 12:37:03] \"POST //habit HTTP/1.1\" 200 -\n"
     ]
    },
    {
     "name": "stdout",
     "output_type": "stream",
     "text": [
      "Error while connecting to PostgreSQL duplicate key value violates unique constraint \"task_un\"\n",
      "DETAIL:  Key (name, date)=(test, 2021-10-01) already exists.\n",
      "\n",
      "Inserting test  2021-10-01\n",
      "duplicate\n"
     ]
    },
    {
     "name": "stderr",
     "output_type": "stream",
     "text": [
      "192.168.86.50 - - [14/Dec/2021 12:37:04] \"POST //habit HTTP/1.1\" 200 -\n"
     ]
    },
    {
     "name": "stdout",
     "output_type": "stream",
     "text": [
      "Error while connecting to PostgreSQL duplicate key value violates unique constraint \"task_un\"\n",
      "DETAIL:  Key (name, date)=(test, 2021-10-01) already exists.\n",
      "\n",
      "Inserting test  2021-10-01\n",
      "duplicate\n"
     ]
    },
    {
     "name": "stderr",
     "output_type": "stream",
     "text": [
      "192.168.86.50 - - [14/Dec/2021 12:37:05] \"POST //habit HTTP/1.1\" 200 -\n"
     ]
    },
    {
     "name": "stdout",
     "output_type": "stream",
     "text": [
      "Error while connecting to PostgreSQL duplicate key value violates unique constraint \"task_un\"\n",
      "DETAIL:  Key (name, date)=(test, 2021-10-01) already exists.\n",
      "\n",
      "Inserting test  2021-10-01\n",
      "duplicate\n"
     ]
    },
    {
     "name": "stderr",
     "output_type": "stream",
     "text": [
      "192.168.86.50 - - [14/Dec/2021 12:37:06] \"POST //habit HTTP/1.1\" 200 -\n"
     ]
    },
    {
     "name": "stdout",
     "output_type": "stream",
     "text": [
      "Error while connecting to PostgreSQL duplicate key value violates unique constraint \"task_un\"\n",
      "DETAIL:  Key (name, date)=(test, 2021-10-01) already exists.\n",
      "\n",
      "Inserting test  2021-10-01\n",
      "duplicate\n"
     ]
    },
    {
     "name": "stderr",
     "output_type": "stream",
     "text": [
      "192.168.86.50 - - [14/Dec/2021 12:37:08] \"POST //habit HTTP/1.1\" 200 -\n"
     ]
    },
    {
     "name": "stdout",
     "output_type": "stream",
     "text": [
      "Error while connecting to PostgreSQL duplicate key value violates unique constraint \"task_un\"\n",
      "DETAIL:  Key (name, date)=(test, 2021-10-01) already exists.\n",
      "\n",
      "Inserting test  2021-10-01\n",
      "duplicate\n"
     ]
    },
    {
     "name": "stderr",
     "output_type": "stream",
     "text": [
      "192.168.86.50 - - [14/Dec/2021 12:37:13] \"POST //habit HTTP/1.1\" 200 -\n"
     ]
    },
    {
     "name": "stdout",
     "output_type": "stream",
     "text": [
      "Error while connecting to PostgreSQL duplicate key value violates unique constraint \"task_un\"\n",
      "DETAIL:  Key (name, date)=(test, 2021-10-01) already exists.\n",
      "\n",
      "Inserting test  2021-10-01\n",
      "duplicate\n"
     ]
    },
    {
     "name": "stderr",
     "output_type": "stream",
     "text": [
      "192.168.86.50 - - [14/Dec/2021 12:37:15] \"POST //habit HTTP/1.1\" 200 -\n"
     ]
    },
    {
     "name": "stdout",
     "output_type": "stream",
     "text": [
      "Error while connecting to PostgreSQL duplicate key value violates unique constraint \"task_un\"\n",
      "DETAIL:  Key (name, date)=(test, 2021-10-01) already exists.\n",
      "\n",
      "Inserting test  2021-10-01\n",
      "duplicate\n"
     ]
    },
    {
     "name": "stderr",
     "output_type": "stream",
     "text": [
      "192.168.86.50 - - [14/Dec/2021 12:37:16] \"POST //habit HTTP/1.1\" 200 -\n"
     ]
    },
    {
     "name": "stdout",
     "output_type": "stream",
     "text": [
      "Error while connecting to PostgreSQL duplicate key value violates unique constraint \"task_un\"\n",
      "DETAIL:  Key (name, date)=(test, 2021-10-01) already exists.\n",
      "\n",
      "Inserting test  2021-10-01\n",
      "duplicate\n"
     ]
    },
    {
     "name": "stderr",
     "output_type": "stream",
     "text": [
      "192.168.86.50 - - [14/Dec/2021 12:53:24] \"POST //habit HTTP/1.1\" 200 -\n"
     ]
    },
    {
     "name": "stdout",
     "output_type": "stream",
     "text": [
      "Error while connecting to PostgreSQL duplicate key value violates unique constraint \"task_un\"\n",
      "DETAIL:  Key (name, date)=(test, 2021-10-01) already exists.\n",
      "\n",
      "Inserting test  2021-10-01\n",
      "duplicate\n"
     ]
    },
    {
     "name": "stderr",
     "output_type": "stream",
     "text": [
      "192.168.86.50 - - [14/Dec/2021 12:53:52] \"POST //habit HTTP/1.1\" 200 -\n"
     ]
    },
    {
     "name": "stdout",
     "output_type": "stream",
     "text": [
      "Error while connecting to PostgreSQL duplicate key value violates unique constraint \"task_un\"\n",
      "DETAIL:  Key (name, date)=(test, 2021-10-01) already exists.\n",
      "\n",
      "Inserting test  2021-10-01\n",
      "duplicate\n"
     ]
    },
    {
     "name": "stderr",
     "output_type": "stream",
     "text": [
      "192.168.86.50 - - [14/Dec/2021 12:54:43] \"POST //habit HTTP/1.1\" 200 -\n"
     ]
    },
    {
     "name": "stdout",
     "output_type": "stream",
     "text": [
      "Error while connecting to PostgreSQL duplicate key value violates unique constraint \"task_un\"\n",
      "DETAIL:  Key (name, date)=(test, 2021-10-01) already exists.\n",
      "\n",
      "Inserting test  2021-10-01\n",
      "duplicate\n"
     ]
    },
    {
     "name": "stderr",
     "output_type": "stream",
     "text": [
      "192.168.86.50 - - [14/Dec/2021 12:54:58] \"POST //habit HTTP/1.1\" 200 -\n"
     ]
    },
    {
     "name": "stdout",
     "output_type": "stream",
     "text": [
      "Error while connecting to PostgreSQL duplicate key value violates unique constraint \"task_un\"\n",
      "DETAIL:  Key (name, date)=(test, 2021-10-01) already exists.\n",
      "\n",
      "Inserting test  2021-10-01\n",
      "duplicate\n"
     ]
    },
    {
     "name": "stderr",
     "output_type": "stream",
     "text": [
      "192.168.86.50 - - [14/Dec/2021 12:55:09] \"POST //habit HTTP/1.1\" 200 -\n"
     ]
    },
    {
     "name": "stdout",
     "output_type": "stream",
     "text": [
      "Error while connecting to PostgreSQL duplicate key value violates unique constraint \"task_un\"\n",
      "DETAIL:  Key (name, date)=(test, 2021-10-01) already exists.\n",
      "\n",
      "Inserting test  2021-10-01\n",
      "duplicate\n"
     ]
    },
    {
     "name": "stderr",
     "output_type": "stream",
     "text": [
      "192.168.86.25 - - [14/Dec/2021 12:58:22] \"POST /habit HTTP/1.1\" 200 -\n"
     ]
    },
    {
     "name": "stdout",
     "output_type": "stream",
     "text": [
      "Error while connecting to PostgreSQL duplicate key value violates unique constraint \"task_un\"\n",
      "DETAIL:  Key (name, date)=(test, 2021-11-21) already exists.\n",
      "\n",
      "Inserting test  2021-11-21\n",
      "duplicate\n"
     ]
    },
    {
     "name": "stderr",
     "output_type": "stream",
     "text": [
      "192.168.86.25 - - [14/Dec/2021 12:58:45] \"POST /habit HTTP/1.1\" 200 -\n"
     ]
    },
    {
     "name": "stdout",
     "output_type": "stream",
     "text": [
      "Error while connecting to PostgreSQL duplicate key value violates unique constraint \"task_un\"\n",
      "DETAIL:  Key (name, date)=(test, 2021-11-21) already exists.\n",
      "\n",
      "Inserting test  2021-11-21\n",
      "duplicate\n"
     ]
    },
    {
     "name": "stderr",
     "output_type": "stream",
     "text": [
      "192.168.86.50 - - [14/Dec/2021 13:02:20] \"POST //habit HTTP/1.1\" 200 -\n"
     ]
    },
    {
     "name": "stdout",
     "output_type": "stream",
     "text": [
      "Error while connecting to PostgreSQL duplicate key value violates unique constraint \"task_un\"\n",
      "DETAIL:  Key (name, date)=(test, 2021-10-01) already exists.\n",
      "\n",
      "Inserting test  2021-10-01\n",
      "duplicate\n"
     ]
    },
    {
     "name": "stderr",
     "output_type": "stream",
     "text": [
      "192.168.86.50 - - [14/Dec/2021 13:02:34] \"POST //habit HTTP/1.1\" 200 -\n"
     ]
    },
    {
     "name": "stdout",
     "output_type": "stream",
     "text": [
      "Error while connecting to PostgreSQL duplicate key value violates unique constraint \"task_un\"\n",
      "DETAIL:  Key (name, date)=(test, 2021-10-01) already exists.\n",
      "\n",
      "Inserting test  2021-10-01\n",
      "duplicate\n"
     ]
    },
    {
     "name": "stderr",
     "output_type": "stream",
     "text": [
      "192.168.86.50 - - [14/Dec/2021 18:32:28] \"POST //habit HTTP/1.1\" 200 -\n"
     ]
    },
    {
     "name": "stdout",
     "output_type": "stream",
     "text": [
      "Error while connecting to PostgreSQL duplicate key value violates unique constraint \"task_un\"\n",
      "DETAIL:  Key (name, date)=(test, 2021-10-01) already exists.\n",
      "\n",
      "Inserting test  2021-10-01\n",
      "duplicate\n"
     ]
    },
    {
     "name": "stderr",
     "output_type": "stream",
     "text": [
      "192.168.86.50 - - [14/Dec/2021 18:32:29] \"POST //habit HTTP/1.1\" 200 -\n"
     ]
    },
    {
     "name": "stdout",
     "output_type": "stream",
     "text": [
      "Error while connecting to PostgreSQL duplicate key value violates unique constraint \"task_un\"\n",
      "DETAIL:  Key (name, date)=(test, 2021-10-01) already exists.\n",
      "\n",
      "Inserting test  2021-10-01\n",
      "duplicate\n"
     ]
    },
    {
     "name": "stderr",
     "output_type": "stream",
     "text": [
      "192.168.86.50 - - [14/Dec/2021 18:32:31] \"POST //habit HTTP/1.1\" 200 -\n"
     ]
    },
    {
     "name": "stdout",
     "output_type": "stream",
     "text": [
      "Error while connecting to PostgreSQL duplicate key value violates unique constraint \"task_un\"\n",
      "DETAIL:  Key (name, date)=(test, 2021-10-01) already exists.\n",
      "\n",
      "Inserting test  2021-10-01\n",
      "duplicate\n"
     ]
    },
    {
     "name": "stderr",
     "output_type": "stream",
     "text": [
      "192.168.86.50 - - [14/Dec/2021 18:32:35] \"POST //habit HTTP/1.1\" 200 -\n"
     ]
    },
    {
     "name": "stdout",
     "output_type": "stream",
     "text": [
      "Error while connecting to PostgreSQL duplicate key value violates unique constraint \"task_un\"\n",
      "DETAIL:  Key (name, date)=(test, 2021-10-01) already exists.\n",
      "\n",
      "Inserting test  2021-10-01\n",
      "duplicate\n"
     ]
    },
    {
     "name": "stderr",
     "output_type": "stream",
     "text": [
      "192.168.86.50 - - [14/Dec/2021 18:32:47] \"POST //habit HTTP/1.1\" 200 -\n"
     ]
    },
    {
     "name": "stdout",
     "output_type": "stream",
     "text": [
      "Error while connecting to PostgreSQL duplicate key value violates unique constraint \"task_un\"\n",
      "DETAIL:  Key (name, date)=(test, 2021-10-01) already exists.\n",
      "\n",
      "Inserting test  2021-10-01\n",
      "duplicate\n"
     ]
    },
    {
     "name": "stderr",
     "output_type": "stream",
     "text": [
      "192.168.86.50 - - [14/Dec/2021 18:32:49] \"POST //habit HTTP/1.1\" 200 -\n"
     ]
    },
    {
     "name": "stdout",
     "output_type": "stream",
     "text": [
      "Error while connecting to PostgreSQL duplicate key value violates unique constraint \"task_un\"\n",
      "DETAIL:  Key (name, date)=(test, 2021-10-01) already exists.\n",
      "\n",
      "Inserting test  2021-10-01\n",
      "duplicate\n"
     ]
    },
    {
     "name": "stderr",
     "output_type": "stream",
     "text": [
      "192.168.86.50 - - [14/Dec/2021 18:32:51] \"POST //habit HTTP/1.1\" 200 -\n"
     ]
    },
    {
     "name": "stdout",
     "output_type": "stream",
     "text": [
      "Error while connecting to PostgreSQL duplicate key value violates unique constraint \"task_un\"\n",
      "DETAIL:  Key (name, date)=(test, 2021-10-01) already exists.\n",
      "\n",
      "Inserting test  2021-10-01\n",
      "duplicate\n"
     ]
    },
    {
     "name": "stderr",
     "output_type": "stream",
     "text": [
      "192.168.86.50 - - [14/Dec/2021 18:32:52] \"POST //habit HTTP/1.1\" 200 -\n"
     ]
    },
    {
     "name": "stdout",
     "output_type": "stream",
     "text": [
      "Error while connecting to PostgreSQL duplicate key value violates unique constraint \"task_un\"\n",
      "DETAIL:  Key (name, date)=(test, 2021-10-01) already exists.\n",
      "\n",
      "Inserting test  2021-10-01\n",
      "duplicate\n"
     ]
    },
    {
     "name": "stderr",
     "output_type": "stream",
     "text": [
      "192.168.86.50 - - [14/Dec/2021 18:32:54] \"POST //habit HTTP/1.1\" 200 -\n"
     ]
    },
    {
     "name": "stdout",
     "output_type": "stream",
     "text": [
      "Error while connecting to PostgreSQL duplicate key value violates unique constraint \"task_un\"\n",
      "DETAIL:  Key (name, date)=(test, 2021-10-01) already exists.\n",
      "\n",
      "Inserting test  2021-10-01\n",
      "duplicate\n"
     ]
    },
    {
     "name": "stderr",
     "output_type": "stream",
     "text": [
      "192.168.86.50 - - [14/Dec/2021 18:32:55] \"POST //habit HTTP/1.1\" 200 -\n"
     ]
    },
    {
     "name": "stdout",
     "output_type": "stream",
     "text": [
      "Error while connecting to PostgreSQL duplicate key value violates unique constraint \"task_un\"\n",
      "DETAIL:  Key (name, date)=(test, 2021-10-01) already exists.\n",
      "\n",
      "Inserting test  2021-10-01\n",
      "duplicate\n"
     ]
    },
    {
     "name": "stderr",
     "output_type": "stream",
     "text": [
      "192.168.86.50 - - [14/Dec/2021 18:33:00] \"POST //habit HTTP/1.1\" 200 -\n"
     ]
    },
    {
     "name": "stdout",
     "output_type": "stream",
     "text": [
      "Error while connecting to PostgreSQL duplicate key value violates unique constraint \"task_un\"\n",
      "DETAIL:  Key (name, date)=(test, 2021-10-01) already exists.\n",
      "\n",
      "Inserting test  2021-10-01\n",
      "duplicate\n"
     ]
    },
    {
     "name": "stderr",
     "output_type": "stream",
     "text": [
      "192.168.86.50 - - [14/Dec/2021 18:33:01] \"POST //habit HTTP/1.1\" 200 -\n"
     ]
    },
    {
     "name": "stdout",
     "output_type": "stream",
     "text": [
      "Error while connecting to PostgreSQL duplicate key value violates unique constraint \"task_un\"\n",
      "DETAIL:  Key (name, date)=(test, 2021-10-01) already exists.\n",
      "\n",
      "Inserting test  2021-10-01\n",
      "duplicate\n"
     ]
    },
    {
     "name": "stderr",
     "output_type": "stream",
     "text": [
      "192.168.86.50 - - [14/Dec/2021 18:33:06] \"POST //habit HTTP/1.1\" 200 -\n"
     ]
    },
    {
     "name": "stdout",
     "output_type": "stream",
     "text": [
      "Error while connecting to PostgreSQL duplicate key value violates unique constraint \"task_un\"\n",
      "DETAIL:  Key (name, date)=(test, 2021-10-01) already exists.\n",
      "\n",
      "Inserting test  2021-10-01\n",
      "duplicate\n"
     ]
    },
    {
     "name": "stderr",
     "output_type": "stream",
     "text": [
      "192.168.86.50 - - [14/Dec/2021 18:33:08] \"POST //habit HTTP/1.1\" 200 -\n"
     ]
    },
    {
     "name": "stdout",
     "output_type": "stream",
     "text": [
      "Error while connecting to PostgreSQL duplicate key value violates unique constraint \"task_un\"\n",
      "DETAIL:  Key (name, date)=(test, 2021-10-01) already exists.\n",
      "\n",
      "Inserting test  2021-10-01\n",
      "duplicate\n"
     ]
    },
    {
     "name": "stderr",
     "output_type": "stream",
     "text": [
      "192.168.86.50 - - [14/Dec/2021 18:33:09] \"POST //habit HTTP/1.1\" 200 -\n"
     ]
    },
    {
     "name": "stdout",
     "output_type": "stream",
     "text": [
      "Error while connecting to PostgreSQL duplicate key value violates unique constraint \"task_un\"\n",
      "DETAIL:  Key (name, date)=(test, 2021-10-01) already exists.\n",
      "\n",
      "Inserting test  2021-10-01\n",
      "duplicate\n"
     ]
    },
    {
     "name": "stderr",
     "output_type": "stream",
     "text": [
      "192.168.86.50 - - [14/Dec/2021 18:33:10] \"POST //habit HTTP/1.1\" 200 -\n"
     ]
    },
    {
     "name": "stdout",
     "output_type": "stream",
     "text": [
      "Error while connecting to PostgreSQL duplicate key value violates unique constraint \"task_un\"\n",
      "DETAIL:  Key (name, date)=(test, 2021-10-01) already exists.\n",
      "\n",
      "Inserting test  2021-10-01\n",
      "duplicate\n"
     ]
    },
    {
     "name": "stderr",
     "output_type": "stream",
     "text": [
      "192.168.86.50 - - [14/Dec/2021 18:33:11] \"POST //habit HTTP/1.1\" 200 -\n"
     ]
    },
    {
     "name": "stdout",
     "output_type": "stream",
     "text": [
      "Error while connecting to PostgreSQL duplicate key value violates unique constraint \"task_un\"\n",
      "DETAIL:  Key (name, date)=(test, 2021-10-01) already exists.\n",
      "\n",
      "Inserting test  2021-10-01\n",
      "duplicate\n"
     ]
    },
    {
     "name": "stderr",
     "output_type": "stream",
     "text": [
      "192.168.86.50 - - [14/Dec/2021 18:33:12] \"POST //habit HTTP/1.1\" 200 -\n"
     ]
    },
    {
     "name": "stdout",
     "output_type": "stream",
     "text": [
      "Error while connecting to PostgreSQL duplicate key value violates unique constraint \"task_un\"\n",
      "DETAIL:  Key (name, date)=(test, 2021-10-01) already exists.\n",
      "\n",
      "Inserting test  2021-10-01\n",
      "duplicate\n"
     ]
    },
    {
     "name": "stderr",
     "output_type": "stream",
     "text": [
      "192.168.86.50 - - [14/Dec/2021 18:33:15] \"POST //habit HTTP/1.1\" 200 -\n"
     ]
    },
    {
     "name": "stdout",
     "output_type": "stream",
     "text": [
      "Error while connecting to PostgreSQL duplicate key value violates unique constraint \"task_un\"\n",
      "DETAIL:  Key (name, date)=(test, 2021-10-01) already exists.\n",
      "\n",
      "Inserting test  2021-10-01\n",
      "duplicate\n"
     ]
    },
    {
     "name": "stderr",
     "output_type": "stream",
     "text": [
      "192.168.86.50 - - [14/Dec/2021 18:33:22] \"POST //habit HTTP/1.1\" 200 -\n"
     ]
    },
    {
     "name": "stdout",
     "output_type": "stream",
     "text": [
      "Error while connecting to PostgreSQL duplicate key value violates unique constraint \"task_un\"\n",
      "DETAIL:  Key (name, date)=(test, 2021-10-01) already exists.\n",
      "\n",
      "Inserting test  2021-10-01\n",
      "duplicate\n"
     ]
    },
    {
     "name": "stderr",
     "output_type": "stream",
     "text": [
      "192.168.86.50 - - [14/Dec/2021 18:33:23] \"POST //habit HTTP/1.1\" 200 -\n"
     ]
    },
    {
     "name": "stdout",
     "output_type": "stream",
     "text": [
      "Error while connecting to PostgreSQL duplicate key value violates unique constraint \"task_un\"\n",
      "DETAIL:  Key (name, date)=(test, 2021-10-01) already exists.\n",
      "\n",
      "Inserting test  2021-10-01\n",
      "duplicate\n"
     ]
    },
    {
     "name": "stderr",
     "output_type": "stream",
     "text": [
      "192.168.86.50 - - [14/Dec/2021 18:33:25] \"POST //habit HTTP/1.1\" 200 -\n"
     ]
    },
    {
     "name": "stdout",
     "output_type": "stream",
     "text": [
      "Error while connecting to PostgreSQL duplicate key value violates unique constraint \"task_un\"\n",
      "DETAIL:  Key (name, date)=(test, 2021-10-01) already exists.\n",
      "\n",
      "Inserting test  2021-10-01\n",
      "duplicate\n"
     ]
    },
    {
     "name": "stderr",
     "output_type": "stream",
     "text": [
      "192.168.86.50 - - [14/Dec/2021 18:33:27] \"POST //habit HTTP/1.1\" 200 -\n"
     ]
    },
    {
     "name": "stdout",
     "output_type": "stream",
     "text": [
      "Error while connecting to PostgreSQL duplicate key value violates unique constraint \"task_un\"\n",
      "DETAIL:  Key (name, date)=(test, 2021-10-01) already exists.\n",
      "\n",
      "Inserting test  2021-10-01\n",
      "duplicate\n"
     ]
    },
    {
     "name": "stderr",
     "output_type": "stream",
     "text": [
      "192.168.86.50 - - [14/Dec/2021 18:33:33] \"POST //habit HTTP/1.1\" 200 -\n"
     ]
    },
    {
     "name": "stdout",
     "output_type": "stream",
     "text": [
      "Error while connecting to PostgreSQL duplicate key value violates unique constraint \"task_un\"\n",
      "DETAIL:  Key (name, date)=(test, 2021-10-01) already exists.\n",
      "\n",
      "Inserting test  2021-10-01\n",
      "duplicate\n"
     ]
    },
    {
     "name": "stderr",
     "output_type": "stream",
     "text": [
      "192.168.86.50 - - [14/Dec/2021 18:33:35] \"POST //habit HTTP/1.1\" 200 -\n"
     ]
    },
    {
     "name": "stdout",
     "output_type": "stream",
     "text": [
      "Error while connecting to PostgreSQL duplicate key value violates unique constraint \"task_un\"\n",
      "DETAIL:  Key (name, date)=(test, 2021-10-01) already exists.\n",
      "\n",
      "Inserting test  2021-10-01\n",
      "duplicate\n"
     ]
    },
    {
     "name": "stderr",
     "output_type": "stream",
     "text": [
      "192.168.86.50 - - [14/Dec/2021 18:33:40] \"POST //habit HTTP/1.1\" 200 -\n"
     ]
    },
    {
     "name": "stdout",
     "output_type": "stream",
     "text": [
      "Error while connecting to PostgreSQL duplicate key value violates unique constraint \"task_un\"\n",
      "DETAIL:  Key (name, date)=(test, 2021-10-01) already exists.\n",
      "\n",
      "Inserting test  2021-10-01\n",
      "duplicate\n"
     ]
    },
    {
     "name": "stderr",
     "output_type": "stream",
     "text": [
      "192.168.86.50 - - [14/Dec/2021 18:33:42] \"POST //habit HTTP/1.1\" 200 -\n"
     ]
    },
    {
     "name": "stdout",
     "output_type": "stream",
     "text": [
      "Error while connecting to PostgreSQL duplicate key value violates unique constraint \"task_un\"\n",
      "DETAIL:  Key (name, date)=(test, 2021-10-01) already exists.\n",
      "\n",
      "Inserting test  2021-10-01\n",
      "duplicate\n"
     ]
    },
    {
     "name": "stderr",
     "output_type": "stream",
     "text": [
      "192.168.86.50 - - [14/Dec/2021 18:33:43] \"POST //habit HTTP/1.1\" 200 -\n"
     ]
    },
    {
     "name": "stdout",
     "output_type": "stream",
     "text": [
      "Error while connecting to PostgreSQL duplicate key value violates unique constraint \"task_un\"\n",
      "DETAIL:  Key (name, date)=(test, 2021-10-01) already exists.\n",
      "\n",
      "Inserting test  2021-10-01\n",
      "duplicate\n"
     ]
    },
    {
     "name": "stderr",
     "output_type": "stream",
     "text": [
      "192.168.86.50 - - [14/Dec/2021 18:33:44] \"POST //habit HTTP/1.1\" 200 -\n"
     ]
    },
    {
     "name": "stdout",
     "output_type": "stream",
     "text": [
      "Error while connecting to PostgreSQL duplicate key value violates unique constraint \"task_un\"\n",
      "DETAIL:  Key (name, date)=(test, 2021-10-01) already exists.\n",
      "\n",
      "Inserting test  2021-10-01\n",
      "duplicate\n"
     ]
    },
    {
     "name": "stderr",
     "output_type": "stream",
     "text": [
      "192.168.86.50 - - [14/Dec/2021 18:33:45] \"POST //habit HTTP/1.1\" 200 -\n"
     ]
    },
    {
     "name": "stdout",
     "output_type": "stream",
     "text": [
      "Error while connecting to PostgreSQL duplicate key value violates unique constraint \"task_un\"\n",
      "DETAIL:  Key (name, date)=(test, 2021-10-01) already exists.\n",
      "\n",
      "Inserting test  2021-10-01\n",
      "duplicate\n"
     ]
    },
    {
     "name": "stderr",
     "output_type": "stream",
     "text": [
      "192.168.86.50 - - [14/Dec/2021 18:33:47] \"POST //habit HTTP/1.1\" 200 -\n"
     ]
    },
    {
     "name": "stdout",
     "output_type": "stream",
     "text": [
      "Error while connecting to PostgreSQL duplicate key value violates unique constraint \"task_un\"\n",
      "DETAIL:  Key (name, date)=(test, 2021-10-01) already exists.\n",
      "\n",
      "Inserting test  2021-10-01\n",
      "duplicate\n"
     ]
    },
    {
     "name": "stderr",
     "output_type": "stream",
     "text": [
      "192.168.86.50 - - [14/Dec/2021 18:33:48] \"POST //habit HTTP/1.1\" 200 -\n"
     ]
    },
    {
     "name": "stdout",
     "output_type": "stream",
     "text": [
      "Error while connecting to PostgreSQL duplicate key value violates unique constraint \"task_un\"\n",
      "DETAIL:  Key (name, date)=(test, 2021-10-01) already exists.\n",
      "\n",
      "Inserting test  2021-10-01\n",
      "duplicate\n"
     ]
    },
    {
     "name": "stderr",
     "output_type": "stream",
     "text": [
      "192.168.86.50 - - [14/Dec/2021 18:33:49] \"POST //habit HTTP/1.1\" 200 -\n"
     ]
    },
    {
     "name": "stdout",
     "output_type": "stream",
     "text": [
      "Error while connecting to PostgreSQL duplicate key value violates unique constraint \"task_un\"\n",
      "DETAIL:  Key (name, date)=(test, 2021-10-01) already exists.\n",
      "\n",
      "Inserting test  2021-10-01\n",
      "duplicate\n"
     ]
    },
    {
     "name": "stderr",
     "output_type": "stream",
     "text": [
      "192.168.86.50 - - [14/Dec/2021 18:33:50] \"POST //habit HTTP/1.1\" 200 -\n"
     ]
    },
    {
     "name": "stdout",
     "output_type": "stream",
     "text": [
      "Error while connecting to PostgreSQL duplicate key value violates unique constraint \"task_un\"\n",
      "DETAIL:  Key (name, date)=(test, 2021-10-01) already exists.\n",
      "\n",
      "Inserting test  2021-10-01\n",
      "duplicate\n"
     ]
    },
    {
     "name": "stderr",
     "output_type": "stream",
     "text": [
      "192.168.86.50 - - [14/Dec/2021 18:33:52] \"POST //habit HTTP/1.1\" 200 -\n"
     ]
    },
    {
     "name": "stdout",
     "output_type": "stream",
     "text": [
      "Error while connecting to PostgreSQL duplicate key value violates unique constraint \"task_un\"\n",
      "DETAIL:  Key (name, date)=(test, 2021-10-01) already exists.\n",
      "\n",
      "Inserting test  2021-10-01\n",
      "duplicate\n"
     ]
    }
   ],
   "source": [
    "if __name__ == '__main__':\n",
    "    app.run(host=\"0.0.0.0\")"
   ]
  },
  {
   "cell_type": "markdown",
   "metadata": {},
   "source": []
  },
  {
   "cell_type": "markdown",
   "metadata": {},
   "source": []
  },
  {
   "cell_type": "code",
   "execution_count": null,
   "metadata": {},
   "outputs": [],
   "source": []
  },
  {
   "cell_type": "markdown",
   "metadata": {},
   "source": []
  },
  {
   "cell_type": "code",
   "execution_count": 67,
   "metadata": {},
   "outputs": [],
   "source": []
  },
  {
   "cell_type": "code",
   "execution_count": 20,
   "metadata": {},
   "outputs": [],
   "source": []
  },
  {
   "cell_type": "markdown",
   "metadata": {},
   "source": []
  },
  {
   "cell_type": "code",
   "execution_count": 21,
   "metadata": {},
   "outputs": [],
   "source": []
  },
  {
   "cell_type": "code",
   "execution_count": null,
   "metadata": {},
   "outputs": [],
   "source": []
  },
  {
   "cell_type": "markdown",
   "metadata": {
    "jp-MarkdownHeadingCollapsed": true,
    "tags": []
   },
   "source": []
  },
  {
   "cell_type": "code",
   "execution_count": 36,
   "metadata": {},
   "outputs": [],
   "source": []
  },
  {
   "cell_type": "code",
   "execution_count": null,
   "metadata": {},
   "outputs": [],
   "source": []
  },
  {
   "cell_type": "markdown",
   "metadata": {},
   "source": []
  },
  {
   "cell_type": "code",
   "execution_count": null,
   "metadata": {},
   "outputs": [],
   "source": []
  },
  {
   "cell_type": "markdown",
   "metadata": {},
   "source": []
  },
  {
   "cell_type": "code",
   "execution_count": 68,
   "metadata": {},
   "outputs": [],
   "source": []
  },
  {
   "cell_type": "code",
   "execution_count": null,
   "metadata": {},
   "outputs": [],
   "source": []
  }
 ],
 "metadata": {
  "kernelspec": {
   "display_name": "Python 3",
   "language": "python",
   "name": "python3"
  },
  "language_info": {
   "codemirror_mode": {
    "name": "ipython",
    "version": 3
   },
   "file_extension": ".py",
   "mimetype": "text/x-python",
   "name": "python",
   "nbconvert_exporter": "python",
   "pygments_lexer": "ipython3",
   "version": "3.8.4"
  }
 },
 "nbformat": 4,
 "nbformat_minor": 4
}
