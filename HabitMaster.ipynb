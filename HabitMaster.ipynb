{
 "cells": [
  {
   "cell_type": "code",
   "execution_count": 19,
   "metadata": {},
   "outputs": [],
   "source": [
    "from flask import Flask\n",
    "from flask import request, jsonify\n",
    "from flask_restful import Resource, Api, reqparse\n",
    "import pandas as pd\n",
    "import ast\n",
    "import psycopg2\n",
    "import pandas.io.sql as sqlio\n",
    "import requests\n",
    "import sqlalchemy\n",
    "from sqlalchemy import create_engine\n",
    "from pathlib import Path\n",
    "import json\n",
    "from multipledispatch import dispatch\n",
    "import os"
   ]
  },
  {
   "cell_type": "markdown",
   "metadata": {},
   "source": [
    "# Helper Functions"
   ]
  },
  {
   "cell_type": "code",
   "execution_count": 20,
   "metadata": {},
   "outputs": [],
   "source": [
    "def get_properties():\n",
    "    props = {}\n",
    "    separator = \"=\"\n",
    "            \n",
    "    with open('./database.properties') as file:\n",
    "        for line in file: \n",
    "            if separator in line:\n",
    "                name, value = line.split(separator, 1)\n",
    "                props[name.strip()] = value.strip()\n",
    "    return props"
   ]
  },
  {
   "cell_type": "markdown",
   "metadata": {},
   "source": [
    "# Databaseclass Database:"
   ]
  },
  {
   "cell_type": "code",
   "execution_count": 21,
   "metadata": {},
   "outputs": [],
   "source": [
    "class Database:\n",
    "    def __init__(self):\n",
    "        db_prop = get_properties()\n",
    "        self.username = db_prop.get('username')\n",
    "        self.password = db_prop.get('password')\n",
    "        self.host = db_prop.get('host')\n",
    "        self.port = db_prop.get('port')\n",
    "        self.database = db_prop.get('database')\n",
    "        #For SQLAlchemy\n",
    "       \n",
    "    \n",
    "    def connect(self):\n",
    "        connection = psycopg2.connect(user=self.username,\n",
    "                                      password=self.password,\n",
    "                                      host=self.host,\n",
    "                                      port=self.port,\n",
    "                                      database=self.database)\n",
    "        return connection, connection.cursor()\n",
    "    \n",
    "    def connect_alchemy(self):\n",
    "        '''Alt library to connect used for importing dataframes'''\n",
    "        engine = create_engine('postgresql://'+self.username+':'+self.password+'@'+self.host+':'+self.port+'/'+self.database)\n",
    "        return engine\n",
    "    \n",
    "    @dispatch(str)\n",
    "    def insert_habit(self, name):\n",
    "        query = 'INSERT INTO public.task (\"name\") VALUES (%s);'\n",
    "        values = tuple(name)\n",
    "        conn, cursor = None, None\n",
    "        response = \"\"\n",
    "        try:\n",
    "            conn, cursor = self.connect()\n",
    "            cursor.execute(query, (name,))\n",
    "            conn.commit()\n",
    "            query = \"select * from public.task WHERE name = %s and date =%s\"\n",
    "            cursor.execute(query, values)\n",
    "            conn.commit()\n",
    "            response = cursor.fetchone()[0]\n",
    "        except (Exception, psycopg2.Error) as error:\n",
    "            print(\"Error while connecting to PostgreSQL\", error)\n",
    "            response = \"duplicate\"\n",
    "        finally:\n",
    "            # closing database connection.\n",
    "            if conn:\n",
    "                cursor.close()\n",
    "                conn.close()\n",
    "            return response\n",
    "    @dispatch(str, str)            \n",
    "    def insert_habit(self, name, date):\n",
    "        query = 'INSERT INTO public.task (\"name\", \"date\") VALUES (%s, %s);'\n",
    "        values = (name, date,)\n",
    "        conn, cursor, task_id = None, None, None\n",
    "        response = \"\"\n",
    "        try:\n",
    "            conn, cursor = self.connect()\n",
    "            cursor.execute(query, values)\n",
    "            conn.commit()\n",
    "            query = \"select * from public.task WHERE name = %s and date =%s\"\n",
    "            cursor.execute(query, values)\n",
    "            conn.commit()\n",
    "            response = cursor.fetchone()[0]\n",
    "        except (Exception, psycopg2.Error) as error:\n",
    "            print(\"Error while connecting to PostgreSQL\", error)\n",
    "            response = \"duplicate\"\n",
    "        finally:\n",
    "            # closing database connection.\n",
    "            if conn:\n",
    "                cursor.close()\n",
    "                conn.close()\n",
    "            return response\n",
    "        \n",
    "    def read_habits(self):\n",
    "        query = \"select * from task\"\n",
    "        result = None\n",
    "        conn, cursor = None, None\n",
    "        try:\n",
    "            conn, cursor = self.connect()\n",
    "            result = sqlio.read_sql_query(query, conn)\n",
    "        except(Exception, psycopg2.Error) as error:\n",
    "            print(\"Error while connecting to PostgreSQL\", error)\n",
    "        finally:\n",
    "            if conn:\n",
    "                cursor.close()\n",
    "                conn.close()\n",
    "            return result     "
   ]
  },
  {
   "cell_type": "markdown",
   "metadata": {},
   "source": [
    "# Make API"
   ]
  },
  {
   "cell_type": "code",
   "execution_count": 22,
   "metadata": {},
   "outputs": [],
   "source": [
    "app = Flask(__name__)\n",
    "api = Api(app)"
   ]
  },
  {
   "cell_type": "code",
   "execution_count": 23,
   "metadata": {},
   "outputs": [],
   "source": [
    "class Habit(Resource):\n",
    "    def __init__(self):\n",
    "        self.db = Database()\n",
    "    \n",
    "    def get(self):\n",
    "        return {\"test\":\"Woo\"}\n",
    "    def post(self):\n",
    "        parser = reqparse.RequestParser()\n",
    "        parser.add_argument('habitName', required = True)\n",
    "        parser.add_argument('date', required = True)\n",
    "        args = parser.parse_args()\n",
    "        if \"today\" in args[\"date\"]:\n",
    "            result = self.db.insert_habit(args[\"habitName\"])\n",
    "        else: \n",
    "            result = self.db.insert_habit(args[\"habitName\"], args[\"date\"])\n",
    "        print(\"Inserting \" + args[\"habitName\"] + \"  \" +args[\"date\"])\n",
    "        print(result)\n",
    "        if result is \"duplicate\":\n",
    "            return jsonify(isError= True,\n",
    "                    message= \"Duplicate\",\n",
    "                    statusCode= 200,\n",
    "                    data= args)\n",
    "        return jsonify(isError= False,\n",
    "                    message= \"Success\",\n",
    "                    statusCode= 200,\n",
    "                    data= args)\n",
    "    \n",
    "api.add_resource(Habit, '/habit')"
   ]
  },
  {
   "cell_type": "code",
   "execution_count": 26,
   "metadata": {},
   "outputs": [
    {
     "name": "stdout",
     "output_type": "stream",
     "text": [
      " * Serving Flask app '__main__' (lazy loading)\n",
      " * Environment: production\n",
      "\u001b[31m   WARNING: This is a development server. Do not use it in a production deployment.\u001b[0m\n",
      "\u001b[2m   Use a production WSGI server instead.\u001b[0m\n",
      " * Debug mode: off\n"
     ]
    },
    {
     "name": "stderr",
     "output_type": "stream",
     "text": [
      " * Running on all addresses.\n",
      "   WARNING: This is a development server. Do not use it in a production deployment.\n",
      " * Running on http://192.168.86.25:5000/ (Press CTRL+C to quit)\n",
      "192.168.86.25 - - [14/Dec/2021 11:52:15] \"POST //habit HTTP/1.1\" 200 -\n"
     ]
    },
    {
     "name": "stdout",
     "output_type": "stream",
     "text": [
      "Inserting test  2021-10-01\n",
      "1760\n"
     ]
    }
   ],
   "source": [
    "if __name__ == '__main__':\n",
    "    app.run(host=\"0.0.0.0\")"
   ]
  },
  {
   "cell_type": "markdown",
   "metadata": {},
   "source": []
  },
  {
   "cell_type": "markdown",
   "metadata": {},
   "source": []
  },
  {
   "cell_type": "code",
   "execution_count": null,
   "metadata": {},
   "outputs": [],
   "source": []
  },
  {
   "cell_type": "markdown",
   "metadata": {},
   "source": []
  },
  {
   "cell_type": "code",
   "execution_count": 67,
   "metadata": {},
   "outputs": [],
   "source": []
  },
  {
   "cell_type": "code",
   "execution_count": 20,
   "metadata": {},
   "outputs": [],
   "source": []
  },
  {
   "cell_type": "markdown",
   "metadata": {},
   "source": []
  },
  {
   "cell_type": "code",
   "execution_count": 21,
   "metadata": {},
   "outputs": [],
   "source": []
  },
  {
   "cell_type": "code",
   "execution_count": null,
   "metadata": {},
   "outputs": [],
   "source": []
  },
  {
   "cell_type": "markdown",
   "metadata": {
    "jp-MarkdownHeadingCollapsed": true,
    "tags": []
   },
   "source": []
  },
  {
   "cell_type": "code",
   "execution_count": 36,
   "metadata": {},
   "outputs": [],
   "source": []
  },
  {
   "cell_type": "code",
   "execution_count": null,
   "metadata": {},
   "outputs": [],
   "source": []
  },
  {
   "cell_type": "markdown",
   "metadata": {},
   "source": []
  },
  {
   "cell_type": "code",
   "execution_count": null,
   "metadata": {},
   "outputs": [],
   "source": []
  },
  {
   "cell_type": "markdown",
   "metadata": {},
   "source": []
  },
  {
   "cell_type": "code",
   "execution_count": 68,
   "metadata": {},
   "outputs": [],
   "source": []
  },
  {
   "cell_type": "code",
   "execution_count": null,
   "metadata": {},
   "outputs": [],
   "source": []
  }
 ],
 "metadata": {
  "kernelspec": {
   "display_name": "Python 3",
   "language": "python",
   "name": "python3"
  },
  "language_info": {
   "codemirror_mode": {
    "name": "ipython",
    "version": 3
   },
   "file_extension": ".py",
   "mimetype": "text/x-python",
   "name": "python",
   "nbconvert_exporter": "python",
   "pygments_lexer": "ipython3",
   "version": "3.8.4"
  }
 },
 "nbformat": 4,
 "nbformat_minor": 4
}
